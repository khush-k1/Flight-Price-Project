{
 "cells": [
  {
   "cell_type": "code",
   "execution_count": 1,
   "id": "a1117d7b",
   "metadata": {},
   "outputs": [],
   "source": [
    "# importing necessary libraries\n",
    "import pandas as pd\n",
    "import numpy as np\n",
    "import selenium\n",
    "from selenium import webdriver\n",
    "import warnings\n",
    "warnings.filterwarnings('ignore')\n",
    "from selenium.common.exceptions import StaleElementReferenceException, NoSuchElementException\n",
    "from selenium.webdriver.common.by import By\n",
    "\n",
    "import time"
   ]
  },
  {
   "cell_type": "code",
   "execution_count": 166,
   "id": "79aa1ed8",
   "metadata": {},
   "outputs": [],
   "source": [
    "# Getting the web driver\n",
    "driver=webdriver.Chrome(r'C:\\Users\\DELL\\chromedriver_win32\\chromedriver')"
   ]
  },
  {
   "cell_type": "code",
   "execution_count": 19,
   "id": "e3b46db0",
   "metadata": {},
   "outputs": [],
   "source": [
    "# getting desired webpage\n",
    "url= 'https://flight.yatra.com/air-search-ui/dom2/trigger?ADT=1&CHD=0&INF=0&class=Economy&destination=BOM&destinationCountry=IN&flexi=0&flight_depart_date=21%2F09%2F2022&hb=0&noOfSegments=1&origin=DEL&originCountry=IN&type=O&unique=864477350657&viewName=normal'\n",
    "driver.get(url)"
   ]
  },
  {
   "cell_type": "code",
   "execution_count": 4,
   "id": "53e43286",
   "metadata": {},
   "outputs": [
    {
     "data": {
      "text/plain": [
       "93"
      ]
     },
     "execution_count": 4,
     "metadata": {},
     "output_type": "execute_result"
    }
   ],
   "source": [
    "airlines=[]\n",
    "airline_tag=driver.find_elements(By.XPATH,'//span[@class=\"i-b text ellipsis\"]')\n",
    "for i in airline_tag:\n",
    "    airlines.append(i.text)\n",
    "len(airlines)"
   ]
  },
  {
   "cell_type": "code",
   "execution_count": 5,
   "id": "e1c8a74e",
   "metadata": {},
   "outputs": [
    {
     "name": "stdout",
     "output_type": "stream",
     "text": [
      "93 93\n"
     ]
    }
   ],
   "source": [
    "source=[]\n",
    "destination=[]\n",
    "xyz=[]\n",
    "source_tag=driver.find_elements(By.XPATH,'//p[@class=\"fs-10 font-lightgrey no-wrap city ellipsis\" ]')\n",
    "for i in source_tag:\n",
    "    xyz.append(i.text)\n",
    "for i in range(0,len(xyz),2):\n",
    "    source.append(xyz[i])\n",
    "for i in range(1,len(xyz), 2):\n",
    "    destination.append(xyz[i])\n",
    "print(len(source), len(destination))"
   ]
  },
  {
   "cell_type": "code",
   "execution_count": 6,
   "id": "e8e281d1",
   "metadata": {},
   "outputs": [
    {
     "data": {
      "text/plain": [
       "93"
      ]
     },
     "execution_count": 6,
     "metadata": {},
     "output_type": "execute_result"
    }
   ],
   "source": [
    "stops=[]\n",
    "stop_tag=driver.find_elements(By.XPATH,'//div[@class=\" font-lightgrey fs-10 tipsy i-b fs-10\"]')\n",
    "for i in stop_tag:\n",
    "    stops.append(i.text)\n",
    "len(stops)"
   ]
  },
  {
   "cell_type": "code",
   "execution_count": 7,
   "id": "90d94845",
   "metadata": {},
   "outputs": [
    {
     "data": {
      "text/plain": [
       "93"
      ]
     },
     "execution_count": 7,
     "metadata": {},
     "output_type": "execute_result"
    }
   ],
   "source": [
    "dept_time=[]\n",
    "dpt_tag=driver.find_elements(By.XPATH,'//div[@class=\"i-b pr\"]')\n",
    "for i in dpt_tag:\n",
    "    dept_time.append(i.text)\n",
    "len(dept_time)"
   ]
  },
  {
   "cell_type": "code",
   "execution_count": 8,
   "id": "b7a39d75",
   "metadata": {},
   "outputs": [
    {
     "data": {
      "text/plain": [
       "93"
      ]
     },
     "execution_count": 8,
     "metadata": {},
     "output_type": "execute_result"
    }
   ],
   "source": [
    "arrival_time=[]\n",
    "arrival_tag=driver.find_elements(By.XPATH,'//p[@class=\"bold fs-15 mb-2 pr time\"]')\n",
    "for i in arrival_tag:\n",
    "    arrival_time.append(i.text)\n",
    "len(arrival_time)"
   ]
  },
  {
   "cell_type": "code",
   "execution_count": 9,
   "id": "1795a05c",
   "metadata": {},
   "outputs": [
    {
     "data": {
      "text/plain": [
       "93"
      ]
     },
     "execution_count": 9,
     "metadata": {},
     "output_type": "execute_result"
    }
   ],
   "source": [
    "price=[]\n",
    "price_tag=driver.find_elements(By.XPATH,'//div[@class=\"i-b tipsy fare-summary-tooltip fs-18\"]')\n",
    "for i in price_tag:\n",
    "    price.append(i.text)\n",
    "len(price)"
   ]
  },
  {
   "cell_type": "code",
   "execution_count": 10,
   "id": "c18bdc23",
   "metadata": {},
   "outputs": [
    {
     "data": {
      "text/plain": [
       "93"
      ]
     },
     "execution_count": 10,
     "metadata": {},
     "output_type": "execute_result"
    }
   ],
   "source": [
    "total_duration=[]\n",
    "duration_tag=driver.find_elements(By.XPATH,'//p[@class=\"fs-12 bold du mb-2\" ]')\n",
    "for i in duration_tag:\n",
    "    total_duration.append(i.text)\n",
    "len(total_duration)"
   ]
  },
  {
   "cell_type": "code",
   "execution_count": 11,
   "id": "8e7b66b6",
   "metadata": {},
   "outputs": [
    {
     "data": {
      "text/plain": [
       "93"
      ]
     },
     "execution_count": 11,
     "metadata": {},
     "output_type": "execute_result"
    }
   ],
   "source": [
    "date_of_journey=[]\n",
    "date_tag=driver.find_elements(By.XPATH,'//p[@class=\"fs-12\"]')\n",
    "for i in date_tag[:1]:\n",
    "    for j in range(len(price)):\n",
    "        date_of_journey.append(i.text)\n",
    "len(date_of_journey)"
   ]
  },
  {
   "cell_type": "code",
   "execution_count": 63,
   "id": "b71392de",
   "metadata": {},
   "outputs": [],
   "source": [
    "date_change=driver.find_element(By.XPATH,'/html/body/section[2]/section/section[2]/section[1]/div[1]/div/div[1]/div/ul/li[2]')\n",
    "date_change.click()"
   ]
  },
  {
   "cell_type": "code",
   "execution_count": 36,
   "id": "65b08640",
   "metadata": {},
   "outputs": [
    {
     "name": "stdout",
     "output_type": "stream",
     "text": [
      "118\n"
     ]
    }
   ],
   "source": [
    "airline_tag=driver.find_elements(By.XPATH,'//span[@class=\"i-b text ellipsis\"]')\n",
    "for i in airline_tag:\n",
    "    airlines.append(i.text)\n",
    "print(len(airlines))\n",
    "\n"
   ]
  },
  {
   "cell_type": "code",
   "execution_count": 30,
   "id": "410b6998",
   "metadata": {},
   "outputs": [
    {
     "name": "stdout",
     "output_type": "stream",
     "text": [
      "118 118\n"
     ]
    }
   ],
   "source": [
    "xyz=[]\n",
    "source_tag=driver.find_elements(By.XPATH,'//p[@class=\"fs-10 font-lightgrey no-wrap city ellipsis\" ]')\n",
    "for i in source_tag:\n",
    "    xyz.append(i.text)\n",
    "for i in range(0,len(xyz),2):\n",
    "    source.append(xyz[i])\n",
    "for i in range(1,len(xyz), 2):\n",
    "    destination.append(xyz[i])\n",
    "print(len(source), len(destination))"
   ]
  },
  {
   "cell_type": "code",
   "execution_count": 32,
   "id": "ecc67649",
   "metadata": {},
   "outputs": [
    {
     "data": {
      "text/plain": [
       "118"
      ]
     },
     "execution_count": 32,
     "metadata": {},
     "output_type": "execute_result"
    }
   ],
   "source": [
    "stop_tag=driver.find_elements(By.XPATH,'//div[@class=\" font-lightgrey fs-10 tipsy i-b fs-10\"]')\n",
    "for i in stop_tag:\n",
    "    stops.append(i.text)\n",
    "len(stops)"
   ]
  },
  {
   "cell_type": "code",
   "execution_count": 33,
   "id": "c466c05e",
   "metadata": {},
   "outputs": [
    {
     "data": {
      "text/plain": [
       "118"
      ]
     },
     "execution_count": 33,
     "metadata": {},
     "output_type": "execute_result"
    }
   ],
   "source": [
    "dpt_tag=driver.find_elements(By.XPATH,'//div[@class=\"i-b pr\"]')\n",
    "for i in dpt_tag:\n",
    "    dept_time.append(i.text)\n",
    "len(dept_time)"
   ]
  },
  {
   "cell_type": "code",
   "execution_count": 34,
   "id": "1ac39820",
   "metadata": {},
   "outputs": [
    {
     "data": {
      "text/plain": [
       "118"
      ]
     },
     "execution_count": 34,
     "metadata": {},
     "output_type": "execute_result"
    }
   ],
   "source": [
    "duration_tag=driver.find_elements(By.XPATH,'//p[@class=\"fs-12 bold du mb-2\" ]')\n",
    "for i in duration_tag:\n",
    "    total_duration.append(i.text)\n",
    "len(total_duration)"
   ]
  },
  {
   "cell_type": "code",
   "execution_count": 64,
   "id": "08a26f82",
   "metadata": {},
   "outputs": [
    {
     "data": {
      "text/plain": [
       "118"
      ]
     },
     "execution_count": 64,
     "metadata": {},
     "output_type": "execute_result"
    }
   ],
   "source": [
    "arrival_tag=driver.find_elements(By.XPATH,'//p[@class=\"bold fs-15 mb-2 pr time\"]')\n",
    "for i in arrival_tag:\n",
    "    arrival_time.append(i.text)\n",
    "len(arrival_time)"
   ]
  },
  {
   "cell_type": "code",
   "execution_count": 35,
   "id": "364ea5fb",
   "metadata": {},
   "outputs": [
    {
     "data": {
      "text/plain": [
       "118"
      ]
     },
     "execution_count": 35,
     "metadata": {},
     "output_type": "execute_result"
    }
   ],
   "source": [
    "price_tag=driver.find_elements(By.XPATH,'//div[@class=\"i-b tipsy fare-summary-tooltip fs-18\"]')\n",
    "for i in price_tag:\n",
    "    price.append(i.text)\n",
    "len(price)"
   ]
  },
  {
   "cell_type": "code",
   "execution_count": 38,
   "id": "37aafb6f",
   "metadata": {},
   "outputs": [
    {
     "data": {
      "text/plain": [
       "118"
      ]
     },
     "execution_count": 38,
     "metadata": {},
     "output_type": "execute_result"
    }
   ],
   "source": [
    "date_of_journey=date_of_journey[:93]\n",
    "date_tag=driver.find_elements(By.XPATH,'//p[@class=\"fs-12\"]')\n",
    "for i in date_tag[1:2]:\n",
    "    for j in range(93,len(price)):\n",
    "        date_of_journey.append(i.text)\n",
    "len(date_of_journey)\n"
   ]
  },
  {
   "cell_type": "code",
   "execution_count": 65,
   "id": "ab29c447",
   "metadata": {},
   "outputs": [],
   "source": [
    "date_change=driver.find_element(By.XPATH,'/html/body/section[2]/section/section[2]/section[1]/div[1]/div/div[1]/div/ul/li[3]')\n",
    "date_change.click()"
   ]
  },
  {
   "cell_type": "code",
   "execution_count": 42,
   "id": "d2e190d7",
   "metadata": {},
   "outputs": [
    {
     "name": "stdout",
     "output_type": "stream",
     "text": [
      "143\n"
     ]
    }
   ],
   "source": [
    "airline_tag=driver.find_elements(By.XPATH,'//span[@class=\"i-b text ellipsis\"]')\n",
    "for i in airline_tag:\n",
    "    airlines.append(i.text)\n",
    "print(len(airlines))\n"
   ]
  },
  {
   "cell_type": "code",
   "execution_count": 43,
   "id": "556f01be",
   "metadata": {},
   "outputs": [
    {
     "name": "stdout",
     "output_type": "stream",
     "text": [
      "143 143\n"
     ]
    }
   ],
   "source": [
    "xyz=[]\n",
    "source_tag=driver.find_elements(By.XPATH,'//p[@class=\"fs-10 font-lightgrey no-wrap city ellipsis\" ]')\n",
    "for i in source_tag:\n",
    "    xyz.append(i.text)\n",
    "for i in range(0,len(xyz),2):\n",
    "    source.append(xyz[i])\n",
    "for i in range(1,len(xyz), 2):\n",
    "    destination.append(xyz[i])\n",
    "print(len(source), len(destination))"
   ]
  },
  {
   "cell_type": "code",
   "execution_count": 44,
   "id": "9043133b",
   "metadata": {},
   "outputs": [
    {
     "data": {
      "text/plain": [
       "143"
      ]
     },
     "execution_count": 44,
     "metadata": {},
     "output_type": "execute_result"
    }
   ],
   "source": [
    "stop_tag=driver.find_elements(By.XPATH,'//div[@class=\" font-lightgrey fs-10 tipsy i-b fs-10\"]')\n",
    "for i in stop_tag:\n",
    "    stops.append(i.text)\n",
    "len(stops)"
   ]
  },
  {
   "cell_type": "code",
   "execution_count": 45,
   "id": "7143d377",
   "metadata": {},
   "outputs": [
    {
     "data": {
      "text/plain": [
       "143"
      ]
     },
     "execution_count": 45,
     "metadata": {},
     "output_type": "execute_result"
    }
   ],
   "source": [
    "dpt_tag=driver.find_elements(By.XPATH,'//div[@class=\"i-b pr\"]')\n",
    "for i in dpt_tag:\n",
    "    dept_time.append(i.text)\n",
    "len(dept_time)"
   ]
  },
  {
   "cell_type": "code",
   "execution_count": 46,
   "id": "d5ffeab5",
   "metadata": {},
   "outputs": [
    {
     "data": {
      "text/plain": [
       "143"
      ]
     },
     "execution_count": 46,
     "metadata": {},
     "output_type": "execute_result"
    }
   ],
   "source": [
    "duration_tag=driver.find_elements(By.XPATH,'//p[@class=\"fs-12 bold du mb-2\" ]')\n",
    "for i in duration_tag:\n",
    "    total_duration.append(i.text)\n",
    "len(total_duration)"
   ]
  },
  {
   "cell_type": "code",
   "execution_count": 66,
   "id": "f33a4be3",
   "metadata": {},
   "outputs": [
    {
     "data": {
      "text/plain": [
       "143"
      ]
     },
     "execution_count": 66,
     "metadata": {},
     "output_type": "execute_result"
    }
   ],
   "source": [
    "arrival_tag=driver.find_elements(By.XPATH,'//p[@class=\"bold fs-15 mb-2 pr time\"]')\n",
    "for i in arrival_tag:\n",
    "    arrival_time.append(i.text)\n",
    "len(arrival_time)"
   ]
  },
  {
   "cell_type": "code",
   "execution_count": 47,
   "id": "cf22b539",
   "metadata": {},
   "outputs": [
    {
     "data": {
      "text/plain": [
       "143"
      ]
     },
     "execution_count": 47,
     "metadata": {},
     "output_type": "execute_result"
    }
   ],
   "source": [
    "price_tag=driver.find_elements(By.XPATH,'//div[@class=\"i-b tipsy fare-summary-tooltip fs-18\"]')\n",
    "for i in price_tag:\n",
    "    price.append(i.text)\n",
    "len(price)"
   ]
  },
  {
   "cell_type": "code",
   "execution_count": 48,
   "id": "82a350c1",
   "metadata": {},
   "outputs": [
    {
     "data": {
      "text/plain": [
       "143"
      ]
     },
     "execution_count": 48,
     "metadata": {},
     "output_type": "execute_result"
    }
   ],
   "source": [
    "date_of_journey=date_of_journey[:118]\n",
    "date_tag=driver.find_elements(By.XPATH,'//p[@class=\"fs-12\"]')\n",
    "for i in date_tag[2:3]:\n",
    "    for j in range(118,len(price)):\n",
    "        date_of_journey.append(i.text)\n",
    "len(date_of_journey)"
   ]
  },
  {
   "cell_type": "code",
   "execution_count": 67,
   "id": "4f0d6575",
   "metadata": {},
   "outputs": [],
   "source": [
    "cursor_tag=driver.find_element(By.XPATH,'/html/body/section[2]/section/section[2]/section[1]/div[1]/div/div[1]/div/div[2]')\n",
    "cursor_tag.click()"
   ]
  },
  {
   "cell_type": "code",
   "execution_count": 68,
   "id": "b18e6a3e",
   "metadata": {},
   "outputs": [],
   "source": [
    "date_change=driver.find_element(By.XPATH,'/html/body/section[2]/section/section[2]/section[1]/div[1]/div/div[1]/div/ul/li[4]')\n",
    "date_change.click()"
   ]
  },
  {
   "cell_type": "code",
   "execution_count": 51,
   "id": "0d70f755",
   "metadata": {},
   "outputs": [
    {
     "name": "stdout",
     "output_type": "stream",
     "text": [
      "168\n"
     ]
    }
   ],
   "source": [
    "airline_tag=driver.find_elements(By.XPATH,'//span[@class=\"i-b text ellipsis\"]')\n",
    "for i in airline_tag:\n",
    "    airlines.append(i.text)\n",
    "print(len(airlines))"
   ]
  },
  {
   "cell_type": "code",
   "execution_count": 52,
   "id": "45df8461",
   "metadata": {},
   "outputs": [
    {
     "name": "stdout",
     "output_type": "stream",
     "text": [
      "168 168\n"
     ]
    }
   ],
   "source": [
    "xyz=[]\n",
    "source_tag=driver.find_elements(By.XPATH,'//p[@class=\"fs-10 font-lightgrey no-wrap city ellipsis\" ]')\n",
    "for i in source_tag:\n",
    "    xyz.append(i.text)\n",
    "for i in range(0,len(xyz),2):\n",
    "    source.append(xyz[i])\n",
    "for i in range(1,len(xyz), 2):\n",
    "    destination.append(xyz[i])\n",
    "print(len(source), len(destination))"
   ]
  },
  {
   "cell_type": "code",
   "execution_count": 53,
   "id": "644df3f5",
   "metadata": {},
   "outputs": [
    {
     "data": {
      "text/plain": [
       "168"
      ]
     },
     "execution_count": 53,
     "metadata": {},
     "output_type": "execute_result"
    }
   ],
   "source": [
    "stop_tag=driver.find_elements(By.XPATH,'//div[@class=\" font-lightgrey fs-10 tipsy i-b fs-10\"]')\n",
    "for i in stop_tag:\n",
    "    stops.append(i.text)\n",
    "len(stops)"
   ]
  },
  {
   "cell_type": "code",
   "execution_count": 54,
   "id": "bb8a2709",
   "metadata": {},
   "outputs": [
    {
     "data": {
      "text/plain": [
       "168"
      ]
     },
     "execution_count": 54,
     "metadata": {},
     "output_type": "execute_result"
    }
   ],
   "source": [
    "dpt_tag=driver.find_elements(By.XPATH,'//div[@class=\"i-b pr\"]')\n",
    "for i in dpt_tag:\n",
    "    dept_time.append(i.text)\n",
    "len(dept_time)"
   ]
  },
  {
   "cell_type": "code",
   "execution_count": 69,
   "id": "d74d262f",
   "metadata": {},
   "outputs": [
    {
     "data": {
      "text/plain": [
       "168"
      ]
     },
     "execution_count": 69,
     "metadata": {},
     "output_type": "execute_result"
    }
   ],
   "source": [
    "arrival_tag=driver.find_elements(By.XPATH,'//p[@class=\"bold fs-15 mb-2 pr time\"]')\n",
    "for i in arrival_tag:\n",
    "    arrival_time.append(i.text)\n",
    "len(arrival_time)"
   ]
  },
  {
   "cell_type": "code",
   "execution_count": 55,
   "id": "9e03101b",
   "metadata": {},
   "outputs": [
    {
     "data": {
      "text/plain": [
       "168"
      ]
     },
     "execution_count": 55,
     "metadata": {},
     "output_type": "execute_result"
    }
   ],
   "source": [
    "duration_tag=driver.find_elements(By.XPATH,'//p[@class=\"fs-12 bold du mb-2\" ]')\n",
    "for i in duration_tag:\n",
    "    total_duration.append(i.text)\n",
    "len(total_duration)"
   ]
  },
  {
   "cell_type": "code",
   "execution_count": 56,
   "id": "07cde59d",
   "metadata": {},
   "outputs": [
    {
     "data": {
      "text/plain": [
       "168"
      ]
     },
     "execution_count": 56,
     "metadata": {},
     "output_type": "execute_result"
    }
   ],
   "source": [
    "price_tag=driver.find_elements(By.XPATH,'//div[@class=\"i-b tipsy fare-summary-tooltip fs-18\"]')\n",
    "for i in price_tag:\n",
    "    price.append(i.text)\n",
    "len(price)"
   ]
  },
  {
   "cell_type": "code",
   "execution_count": 57,
   "id": "ac1e7427",
   "metadata": {},
   "outputs": [
    {
     "data": {
      "text/plain": [
       "168"
      ]
     },
     "execution_count": 57,
     "metadata": {},
     "output_type": "execute_result"
    }
   ],
   "source": [
    "date_of_journey=date_of_journey[:143]\n",
    "date_tag=driver.find_elements(By.XPATH,'//p[@class=\"fs-12\"]')\n",
    "for i in date_tag[3:4]:\n",
    "    for j in range(143,len(price)):\n",
    "        date_of_journey.append(i.text)\n",
    "len(date_of_journey)"
   ]
  },
  {
   "cell_type": "code",
   "execution_count": 70,
   "id": "5d7f122f",
   "metadata": {},
   "outputs": [],
   "source": [
    "cursor_tag=driver.find_element(By.XPATH,'/html/body/section[2]/section/section[2]/section[1]/div[1]/div/div[1]/div/div[2]')\n",
    "cursor_tag.click()"
   ]
  },
  {
   "cell_type": "code",
   "execution_count": 71,
   "id": "9a2f45fb",
   "metadata": {},
   "outputs": [],
   "source": [
    "date_change=driver.find_element(By.XPATH,'/html/body/section[2]/section/section[2]/section[1]/div[1]/div/div[1]/div/ul/li[5]')\n",
    "date_change.click()"
   ]
  },
  {
   "cell_type": "code",
   "execution_count": 60,
   "id": "d1905f7a",
   "metadata": {},
   "outputs": [
    {
     "name": "stdout",
     "output_type": "stream",
     "text": [
      "193 193 193 193 193 193 193\n"
     ]
    }
   ],
   "source": [
    "airline_tag=driver.find_elements(By.XPATH,'//span[@class=\"i-b text ellipsis\"]')\n",
    "for i in airline_tag:\n",
    "    airlines.append(i.text)\n",
    "\n",
    "xyz=[]\n",
    "source_tag=driver.find_elements(By.XPATH,'//p[@class=\"fs-10 font-lightgrey no-wrap city ellipsis\" ]')\n",
    "for i in source_tag:\n",
    "    xyz.append(i.text)\n",
    "for i in range(0,len(xyz),2):\n",
    "    source.append(xyz[i])\n",
    "for i in range(1,len(xyz), 2):\n",
    "    destination.append(xyz[i])\n",
    "    \n",
    "stop_tag=driver.find_elements(By.XPATH,'//div[@class=\" font-lightgrey fs-10 tipsy i-b fs-10\"]')\n",
    "for i in stop_tag:\n",
    "    stops.append(i.text)\n",
    "    \n",
    "dpt_tag=driver.find_elements(By.XPATH,'//div[@class=\"i-b pr\"]')\n",
    "for i in dpt_tag:\n",
    "    dept_time.append(i.text)\n",
    "\n",
    "duration_tag=driver.find_elements(By.XPATH,'//p[@class=\"fs-12 bold du mb-2\" ]')\n",
    "for i in duration_tag:\n",
    "    total_duration.append(i.text)\n",
    "    \n",
    "price_tag=driver.find_elements(By.XPATH,'//div[@class=\"i-b tipsy fare-summary-tooltip fs-18\"]')\n",
    "for i in price_tag:\n",
    "    price.append(i.text)\n",
    "    \n",
    "print(len(airlines),len(source),len(destination),len(stops),len(dept_time),len(total_duration),len(price))"
   ]
  },
  {
   "cell_type": "code",
   "execution_count": 61,
   "id": "6998ab1c",
   "metadata": {},
   "outputs": [
    {
     "data": {
      "text/plain": [
       "193"
      ]
     },
     "execution_count": 61,
     "metadata": {},
     "output_type": "execute_result"
    }
   ],
   "source": [
    "date_of_journey=date_of_journey[:168]\n",
    "date_tag=driver.find_elements(By.XPATH,'//p[@class=\"fs-12\"]')\n",
    "for i in date_tag[4:5]:\n",
    "    for j in range(168,len(price)):\n",
    "        date_of_journey.append(i.text)\n",
    "len(date_of_journey)"
   ]
  },
  {
   "cell_type": "code",
   "execution_count": 72,
   "id": "0c92495c",
   "metadata": {},
   "outputs": [
    {
     "data": {
      "text/plain": [
       "193"
      ]
     },
     "execution_count": 72,
     "metadata": {},
     "output_type": "execute_result"
    }
   ],
   "source": [
    "arrival_tag=driver.find_elements(By.XPATH,'//p[@class=\"bold fs-15 mb-2 pr time\"]')\n",
    "for i in arrival_tag:\n",
    "    arrival_time.append(i.text)\n",
    "len(arrival_time)"
   ]
  },
  {
   "cell_type": "code",
   "execution_count": 73,
   "id": "d39e129d",
   "metadata": {},
   "outputs": [],
   "source": [
    "date_change=driver.find_element(By.XPATH,'/html/body/section[2]/section/section[2]/section[1]/div[1]/div/div[1]/div/ul/li[6]')\n",
    "date_change.click()"
   ]
  },
  {
   "cell_type": "code",
   "execution_count": 74,
   "id": "1a110fe0",
   "metadata": {},
   "outputs": [
    {
     "name": "stdout",
     "output_type": "stream",
     "text": [
      "218 218 218 218 218 218 218 218\n"
     ]
    }
   ],
   "source": [
    "airline_tag=driver.find_elements(By.XPATH,'//span[@class=\"i-b text ellipsis\"]')\n",
    "for i in airline_tag:\n",
    "    airlines.append(i.text)\n",
    "\n",
    "xyz=[]\n",
    "source_tag=driver.find_elements(By.XPATH,'//p[@class=\"fs-10 font-lightgrey no-wrap city ellipsis\" ]')\n",
    "for i in source_tag:\n",
    "    xyz.append(i.text)\n",
    "for i in range(0,len(xyz),2):\n",
    "    source.append(xyz[i])\n",
    "for i in range(1,len(xyz), 2):\n",
    "    destination.append(xyz[i])\n",
    "    \n",
    "stop_tag=driver.find_elements(By.XPATH,'//div[@class=\" font-lightgrey fs-10 tipsy i-b fs-10\"]')\n",
    "for i in stop_tag:\n",
    "    stops.append(i.text)\n",
    "    \n",
    "dpt_tag=driver.find_elements(By.XPATH,'//div[@class=\"i-b pr\"]')\n",
    "for i in dpt_tag:\n",
    "    dept_time.append(i.text)\n",
    "    \n",
    "arrival_tag=driver.find_elements(By.XPATH,'//p[@class=\"bold fs-15 mb-2 pr time\"]')\n",
    "for i in arrival_tag:\n",
    "    arrival_time.append(i.text)\n",
    "\n",
    "duration_tag=driver.find_elements(By.XPATH,'//p[@class=\"fs-12 bold du mb-2\" ]')\n",
    "for i in duration_tag:\n",
    "    total_duration.append(i.text)\n",
    "    \n",
    "price_tag=driver.find_elements(By.XPATH,'//div[@class=\"i-b tipsy fare-summary-tooltip fs-18\"]')\n",
    "for i in price_tag:\n",
    "    price.append(i.text)\n",
    "    \n",
    "print(len(airlines),len(source),len(destination),len(stops),len(dept_time),len(arrival_time),len(total_duration),len(price))"
   ]
  },
  {
   "cell_type": "code",
   "execution_count": 75,
   "id": "92f3e59a",
   "metadata": {},
   "outputs": [
    {
     "data": {
      "text/plain": [
       "218"
      ]
     },
     "execution_count": 75,
     "metadata": {},
     "output_type": "execute_result"
    }
   ],
   "source": [
    "date_of_journey=date_of_journey[:193]\n",
    "date_tag=driver.find_elements(By.XPATH,'//p[@class=\"fs-12\"]')\n",
    "for i in date_tag[5:6]:\n",
    "    for j in range(193,len(price)):\n",
    "        date_of_journey.append(i.text)\n",
    "len(date_of_journey)"
   ]
  },
  {
   "cell_type": "code",
   "execution_count": 77,
   "id": "b191b8b3",
   "metadata": {},
   "outputs": [],
   "source": [
    "date_change=driver.find_element(By.XPATH,'/html/body/section[2]/section/section[2]/section[1]/div[1]/div/div[1]/div/ul/li[7]')\n",
    "date_change.click()"
   ]
  },
  {
   "cell_type": "code",
   "execution_count": 78,
   "id": "446cb427",
   "metadata": {},
   "outputs": [
    {
     "name": "stdout",
     "output_type": "stream",
     "text": [
      "243 243 243 243 243 243 243 243\n"
     ]
    }
   ],
   "source": [
    "airline_tag=driver.find_elements(By.XPATH,'//span[@class=\"i-b text ellipsis\"]')\n",
    "for i in airline_tag:\n",
    "    airlines.append(i.text)\n",
    "\n",
    "xyz=[]\n",
    "source_tag=driver.find_elements(By.XPATH,'//p[@class=\"fs-10 font-lightgrey no-wrap city ellipsis\" ]')\n",
    "for i in source_tag:\n",
    "    xyz.append(i.text)\n",
    "for i in range(0,len(xyz),2):\n",
    "    source.append(xyz[i])\n",
    "for i in range(1,len(xyz), 2):\n",
    "    destination.append(xyz[i])\n",
    "    \n",
    "stop_tag=driver.find_elements(By.XPATH,'//div[@class=\" font-lightgrey fs-10 tipsy i-b fs-10\"]')\n",
    "for i in stop_tag:\n",
    "    stops.append(i.text)\n",
    "    \n",
    "dpt_tag=driver.find_elements(By.XPATH,'//div[@class=\"i-b pr\"]')\n",
    "for i in dpt_tag:\n",
    "    dept_time.append(i.text)\n",
    "    \n",
    "arrival_tag=driver.find_elements(By.XPATH,'//p[@class=\"bold fs-15 mb-2 pr time\"]')\n",
    "for i in arrival_tag:\n",
    "    arrival_time.append(i.text)\n",
    "\n",
    "duration_tag=driver.find_elements(By.XPATH,'//p[@class=\"fs-12 bold du mb-2\" ]')\n",
    "for i in duration_tag:\n",
    "    total_duration.append(i.text)\n",
    "    \n",
    "price_tag=driver.find_elements(By.XPATH,'//div[@class=\"i-b tipsy fare-summary-tooltip fs-18\"]')\n",
    "for i in price_tag:\n",
    "    price.append(i.text)\n",
    "    \n",
    "print(len(airlines),len(source),len(destination),len(stops),len(dept_time),len(arrival_time),len(total_duration),len(price))"
   ]
  },
  {
   "cell_type": "code",
   "execution_count": 79,
   "id": "f5a8add6",
   "metadata": {},
   "outputs": [
    {
     "data": {
      "text/plain": [
       "243"
      ]
     },
     "execution_count": 79,
     "metadata": {},
     "output_type": "execute_result"
    }
   ],
   "source": [
    "date_of_journey=date_of_journey[:218]\n",
    "date_tag=driver.find_elements(By.XPATH,'//p[@class=\"fs-12\"]')\n",
    "for i in date_tag[6:7]:\n",
    "    for j in range(218,len(price)):\n",
    "        date_of_journey.append(i.text)\n",
    "len(date_of_journey)"
   ]
  },
  {
   "cell_type": "code",
   "execution_count": 80,
   "id": "70f101da",
   "metadata": {},
   "outputs": [],
   "source": [
    "cursor_tag=driver.find_element(By.XPATH,\"/html/body/section[2]/section/section[2]/section[1]/div[1]/div/div[1]/div/div[2]\")\n",
    "cursor_tag.click()"
   ]
  },
  {
   "cell_type": "code",
   "execution_count": 81,
   "id": "40f9a6c3",
   "metadata": {},
   "outputs": [],
   "source": [
    "date_change=driver.find_element(By.XPATH,'/html/body/section[2]/section/section[2]/section[1]/div[1]/div/div[1]/div/ul/li[8]')\n",
    "date_change.click()"
   ]
  },
  {
   "cell_type": "code",
   "execution_count": 82,
   "id": "2b6df64a",
   "metadata": {},
   "outputs": [
    {
     "name": "stdout",
     "output_type": "stream",
     "text": [
      "268 268 268 268 268 268 268 268\n"
     ]
    }
   ],
   "source": [
    "airline_tag=driver.find_elements(By.XPATH,'//span[@class=\"i-b text ellipsis\"]')\n",
    "for i in airline_tag:\n",
    "    airlines.append(i.text)\n",
    "\n",
    "xyz=[]\n",
    "source_tag=driver.find_elements(By.XPATH,'//p[@class=\"fs-10 font-lightgrey no-wrap city ellipsis\" ]')\n",
    "for i in source_tag:\n",
    "    xyz.append(i.text)\n",
    "for i in range(0,len(xyz),2):\n",
    "    source.append(xyz[i])\n",
    "for i in range(1,len(xyz), 2):\n",
    "    destination.append(xyz[i])\n",
    "    \n",
    "stop_tag=driver.find_elements(By.XPATH,'//div[@class=\" font-lightgrey fs-10 tipsy i-b fs-10\"]')\n",
    "for i in stop_tag:\n",
    "    stops.append(i.text)\n",
    "    \n",
    "dpt_tag=driver.find_elements(By.XPATH,'//div[@class=\"i-b pr\"]')\n",
    "for i in dpt_tag:\n",
    "    dept_time.append(i.text)\n",
    "    \n",
    "arrival_tag=driver.find_elements(By.XPATH,'//p[@class=\"bold fs-15 mb-2 pr time\"]')\n",
    "for i in arrival_tag:\n",
    "    arrival_time.append(i.text)\n",
    "\n",
    "duration_tag=driver.find_elements(By.XPATH,'//p[@class=\"fs-12 bold du mb-2\" ]')\n",
    "for i in duration_tag:\n",
    "    total_duration.append(i.text)\n",
    "    \n",
    "price_tag=driver.find_elements(By.XPATH,'//div[@class=\"i-b tipsy fare-summary-tooltip fs-18\"]')\n",
    "for i in price_tag:\n",
    "    price.append(i.text)\n",
    "    \n",
    "print(len(airlines),len(source),len(destination),len(stops),len(dept_time),len(arrival_time),len(total_duration),len(price))"
   ]
  },
  {
   "cell_type": "code",
   "execution_count": 83,
   "id": "06838673",
   "metadata": {},
   "outputs": [
    {
     "data": {
      "text/plain": [
       "268"
      ]
     },
     "execution_count": 83,
     "metadata": {},
     "output_type": "execute_result"
    }
   ],
   "source": [
    "date_of_journey=date_of_journey[:243]\n",
    "date_tag=driver.find_elements(By.XPATH,'//p[@class=\"fs-12\"]')\n",
    "for i in date_tag[7:8]:\n",
    "    for j in range(243,len(price)):\n",
    "        date_of_journey.append(i.text)\n",
    "len(date_of_journey)"
   ]
  },
  {
   "cell_type": "code",
   "execution_count": 85,
   "id": "558c495d",
   "metadata": {},
   "outputs": [],
   "source": [
    "cursor_tag=driver.find_element(By.XPATH,'/html/body/section[2]/section/section[2]/section[1]/div[1]/div/div[1]/div/div[2]')\n",
    "cursor_tag.click()"
   ]
  },
  {
   "cell_type": "code",
   "execution_count": 86,
   "id": "c76f3703",
   "metadata": {},
   "outputs": [],
   "source": [
    "change_date=driver.find_element(By.XPATH,'/html/body/section[2]/section/section[2]/section[1]/div[1]/div/div[1]/div/ul/li[9]')\n",
    "change_date.click()"
   ]
  },
  {
   "cell_type": "code",
   "execution_count": 87,
   "id": "f2d3328c",
   "metadata": {},
   "outputs": [
    {
     "name": "stdout",
     "output_type": "stream",
     "text": [
      "293 293 293 293 293 293 293 293\n"
     ]
    }
   ],
   "source": [
    "airline_tag=driver.find_elements(By.XPATH,'//span[@class=\"i-b text ellipsis\"]')\n",
    "for i in airline_tag:\n",
    "    airlines.append(i.text)\n",
    "\n",
    "xyz=[]\n",
    "source_tag=driver.find_elements(By.XPATH,'//p[@class=\"fs-10 font-lightgrey no-wrap city ellipsis\" ]')\n",
    "for i in source_tag:\n",
    "    xyz.append(i.text)\n",
    "for i in range(0,len(xyz),2):\n",
    "    source.append(xyz[i])\n",
    "for i in range(1,len(xyz), 2):\n",
    "    destination.append(xyz[i])\n",
    "    \n",
    "stop_tag=driver.find_elements(By.XPATH,'//div[@class=\" font-lightgrey fs-10 tipsy i-b fs-10\"]')\n",
    "for i in stop_tag:\n",
    "    stops.append(i.text)\n",
    "    \n",
    "dpt_tag=driver.find_elements(By.XPATH,'//div[@class=\"i-b pr\"]')\n",
    "for i in dpt_tag:\n",
    "    dept_time.append(i.text)\n",
    "    \n",
    "arrival_tag=driver.find_elements(By.XPATH,'//p[@class=\"bold fs-15 mb-2 pr time\"]')\n",
    "for i in arrival_tag:\n",
    "    arrival_time.append(i.text)\n",
    "\n",
    "duration_tag=driver.find_elements(By.XPATH,'//p[@class=\"fs-12 bold du mb-2\" ]')\n",
    "for i in duration_tag:\n",
    "    total_duration.append(i.text)\n",
    "    \n",
    "price_tag=driver.find_elements(By.XPATH,'//div[@class=\"i-b tipsy fare-summary-tooltip fs-18\"]')\n",
    "for i in price_tag:\n",
    "    price.append(i.text)\n",
    "    \n",
    "print(len(airlines),len(source),len(destination),len(stops),len(dept_time),len(arrival_time),len(total_duration),len(price))"
   ]
  },
  {
   "cell_type": "code",
   "execution_count": 88,
   "id": "f29b39f6",
   "metadata": {},
   "outputs": [
    {
     "data": {
      "text/plain": [
       "293"
      ]
     },
     "execution_count": 88,
     "metadata": {},
     "output_type": "execute_result"
    }
   ],
   "source": [
    "date_of_journey=date_of_journey[:268]\n",
    "date_tag=driver.find_elements(By.XPATH,'//p[@class=\"fs-12\"]')\n",
    "for i in date_tag[8:9]:\n",
    "    for j in range(268,len(price)):\n",
    "        date_of_journey.append(i.text)\n",
    "len(date_of_journey)"
   ]
  },
  {
   "cell_type": "code",
   "execution_count": 89,
   "id": "2cb02189",
   "metadata": {},
   "outputs": [],
   "source": [
    "# Destination and source change , getting a new url\n",
    "url='https://flight.yatra.com/air-search-ui/dom2/trigger?ADT=1&CHD=0&INF=0&class=Economy&destination=DEL&destinationCountry=IN&flexi=0&flight_depart_date=28%2F09%2F2022&hb=&noOfSegments=1&origin=BOM&originCountry=IN&type=O&unique=1663761977491&viewName=normal'\n",
    "driver.get(url)"
   ]
  },
  {
   "cell_type": "code",
   "execution_count": 90,
   "id": "9e635014",
   "metadata": {},
   "outputs": [
    {
     "name": "stdout",
     "output_type": "stream",
     "text": [
      "318 318 318 318 318 318 318 318\n"
     ]
    }
   ],
   "source": [
    "airline_tag=driver.find_elements(By.XPATH,'//span[@class=\"i-b text ellipsis\"]')\n",
    "for i in airline_tag:\n",
    "    airlines.append(i.text)\n",
    "\n",
    "xyz=[]\n",
    "source_tag=driver.find_elements(By.XPATH,'//p[@class=\"fs-10 font-lightgrey no-wrap city ellipsis\" ]')\n",
    "for i in source_tag:\n",
    "    xyz.append(i.text)\n",
    "for i in range(0,len(xyz),2):\n",
    "    source.append(xyz[i])\n",
    "for i in range(1,len(xyz), 2):\n",
    "    destination.append(xyz[i])\n",
    "    \n",
    "stop_tag=driver.find_elements(By.XPATH,'//div[@class=\" font-lightgrey fs-10 tipsy i-b fs-10\"]')\n",
    "for i in stop_tag:\n",
    "    stops.append(i.text)\n",
    "    \n",
    "dpt_tag=driver.find_elements(By.XPATH,'//div[@class=\"i-b pr\"]')\n",
    "for i in dpt_tag:\n",
    "    dept_time.append(i.text)\n",
    "    \n",
    "arrival_tag=driver.find_elements(By.XPATH,'//p[@class=\"bold fs-15 mb-2 pr time\"]')\n",
    "for i in arrival_tag:\n",
    "    arrival_time.append(i.text)\n",
    "\n",
    "duration_tag=driver.find_elements(By.XPATH,'//p[@class=\"fs-12 bold du mb-2\" ]')\n",
    "for i in duration_tag:\n",
    "    total_duration.append(i.text)\n",
    "    \n",
    "price_tag=driver.find_elements(By.XPATH,'//div[@class=\"i-b tipsy fare-summary-tooltip fs-18\"]')\n",
    "for i in price_tag:\n",
    "    price.append(i.text)\n",
    "    \n",
    "print(len(airlines),len(source),len(destination),len(stops),len(dept_time),len(arrival_time),len(total_duration),len(price))"
   ]
  },
  {
   "cell_type": "code",
   "execution_count": 93,
   "id": "bf47c651",
   "metadata": {},
   "outputs": [
    {
     "data": {
      "text/plain": [
       "318"
      ]
     },
     "execution_count": 93,
     "metadata": {},
     "output_type": "execute_result"
    }
   ],
   "source": [
    "\n",
    "date_tag=driver.find_elements(By.XPATH,'/html/body/section[2]/section/section[2]/section[1]/div[1]/div/div[1]/div/ul/li[8]/div/p[1]')\n",
    "for i in date_tag:\n",
    "    for j in range(293,len(price)):\n",
    "        date_of_journey.append(i.text)\n",
    "len(date_of_journey)"
   ]
  },
  {
   "cell_type": "code",
   "execution_count": 94,
   "id": "40fa8855",
   "metadata": {},
   "outputs": [],
   "source": [
    "date_change=driver.find_element(By.XPATH,'/html/body/section[2]/section/section[2]/section[1]/div[1]/div/div[1]/div/ul/li[9]')\n",
    "date_change.click()"
   ]
  },
  {
   "cell_type": "code",
   "execution_count": 95,
   "id": "21599559",
   "metadata": {},
   "outputs": [
    {
     "name": "stdout",
     "output_type": "stream",
     "text": [
      "343 343 343 343 343 343 343 343\n"
     ]
    }
   ],
   "source": [
    "airline_tag=driver.find_elements(By.XPATH,'//span[@class=\"i-b text ellipsis\"]')\n",
    "for i in airline_tag:\n",
    "    airlines.append(i.text)\n",
    "\n",
    "xyz=[]\n",
    "source_tag=driver.find_elements(By.XPATH,'//p[@class=\"fs-10 font-lightgrey no-wrap city ellipsis\" ]')\n",
    "for i in source_tag:\n",
    "    xyz.append(i.text)\n",
    "for i in range(0,len(xyz),2):\n",
    "    source.append(xyz[i])\n",
    "for i in range(1,len(xyz), 2):\n",
    "    destination.append(xyz[i])\n",
    "    \n",
    "stop_tag=driver.find_elements(By.XPATH,'//div[@class=\" font-lightgrey fs-10 tipsy i-b fs-10\"]')\n",
    "for i in stop_tag:\n",
    "    stops.append(i.text)\n",
    "    \n",
    "dpt_tag=driver.find_elements(By.XPATH,'//div[@class=\"i-b pr\"]')\n",
    "for i in dpt_tag:\n",
    "    dept_time.append(i.text)\n",
    "    \n",
    "arrival_tag=driver.find_elements(By.XPATH,'//p[@class=\"bold fs-15 mb-2 pr time\"]')\n",
    "for i in arrival_tag:\n",
    "    arrival_time.append(i.text)\n",
    "\n",
    "duration_tag=driver.find_elements(By.XPATH,'//p[@class=\"fs-12 bold du mb-2\" ]')\n",
    "for i in duration_tag:\n",
    "    total_duration.append(i.text)\n",
    "    \n",
    "price_tag=driver.find_elements(By.XPATH,'//div[@class=\"i-b tipsy fare-summary-tooltip fs-18\"]')\n",
    "for i in price_tag:\n",
    "    price.append(i.text)\n",
    "    \n",
    "print(len(airlines),len(source),len(destination),len(stops),len(dept_time),len(arrival_time),len(total_duration),len(price))"
   ]
  },
  {
   "cell_type": "code",
   "execution_count": 97,
   "id": "f665d636",
   "metadata": {},
   "outputs": [
    {
     "data": {
      "text/plain": [
       "343"
      ]
     },
     "execution_count": 97,
     "metadata": {},
     "output_type": "execute_result"
    }
   ],
   "source": [
    "date_tag=driver.find_elements(By.XPATH,'/html/body/section[2]/section/section[2]/section[1]/div[1]/div/div[1]/div/ul/li[9]/div/p[1]')\n",
    "for i in date_tag:\n",
    "    for j in range(318,len(price)):\n",
    "        date_of_journey.append(i.text)\n",
    "len(date_of_journey)"
   ]
  },
  {
   "cell_type": "code",
   "execution_count": 99,
   "id": "4ec3b7ba",
   "metadata": {},
   "outputs": [],
   "source": [
    "# new date\n",
    "driver.get('https://flight.yatra.com/air-search-ui/dom2/trigger?ADT=1&CHD=0&INF=0&class=Economy&destination=DEL&destinationCountry=IN&flexi=0&flight_depart_date=01%2F10%2F2022&hb=0&noOfSegments=1&origin=BOM&originCountry=IN&type=O&unique=1663846096729&viewName=normal')"
   ]
  },
  {
   "cell_type": "code",
   "execution_count": 100,
   "id": "9bd8e568",
   "metadata": {},
   "outputs": [
    {
     "name": "stdout",
     "output_type": "stream",
     "text": [
      "368 368 368 368 368 368 368 368\n"
     ]
    }
   ],
   "source": [
    "airline_tag=driver.find_elements(By.XPATH,'//span[@class=\"i-b text ellipsis\"]')\n",
    "for i in airline_tag:\n",
    "    airlines.append(i.text)\n",
    "\n",
    "xyz=[]\n",
    "source_tag=driver.find_elements(By.XPATH,'//p[@class=\"fs-10 font-lightgrey no-wrap city ellipsis\" ]')\n",
    "for i in source_tag:\n",
    "    xyz.append(i.text)\n",
    "for i in range(0,len(xyz),2):\n",
    "    source.append(xyz[i])\n",
    "for i in range(1,len(xyz), 2):\n",
    "    destination.append(xyz[i])\n",
    "    \n",
    "stop_tag=driver.find_elements(By.XPATH,'//div[@class=\" font-lightgrey fs-10 tipsy i-b fs-10\"]')\n",
    "for i in stop_tag:\n",
    "    stops.append(i.text)\n",
    "    \n",
    "dpt_tag=driver.find_elements(By.XPATH,'//div[@class=\"i-b pr\"]')\n",
    "for i in dpt_tag:\n",
    "    dept_time.append(i.text)\n",
    "    \n",
    "arrival_tag=driver.find_elements(By.XPATH,'//p[@class=\"bold fs-15 mb-2 pr time\"]')\n",
    "for i in arrival_tag:\n",
    "    arrival_time.append(i.text)\n",
    "\n",
    "duration_tag=driver.find_elements(By.XPATH,'//p[@class=\"fs-12 bold du mb-2\" ]')\n",
    "for i in duration_tag:\n",
    "    total_duration.append(i.text)\n",
    "    \n",
    "price_tag=driver.find_elements(By.XPATH,'//div[@class=\"i-b tipsy fare-summary-tooltip fs-18\"]')\n",
    "for i in price_tag:\n",
    "    price.append(i.text)\n",
    "    \n",
    "print(len(airlines),len(source),len(destination),len(stops),len(dept_time),len(arrival_time),len(total_duration),len(price))"
   ]
  },
  {
   "cell_type": "code",
   "execution_count": 101,
   "id": "f21e714c",
   "metadata": {},
   "outputs": [
    {
     "data": {
      "text/plain": [
       "368"
      ]
     },
     "execution_count": 101,
     "metadata": {},
     "output_type": "execute_result"
    }
   ],
   "source": [
    "date_tag=driver.find_elements(By.XPATH,'/html/body/section[2]/section/section[2]/section[1]/div[1]/div/div[1]/div/ul/li[10]/div/p[1]')\n",
    "for i in date_tag:\n",
    "    for j in range(343,len(price)):\n",
    "        date_of_journey.append(i.text)\n",
    "len(date_of_journey)"
   ]
  },
  {
   "cell_type": "code",
   "execution_count": 102,
   "id": "e0b79fe6",
   "metadata": {},
   "outputs": [],
   "source": [
    "# date change\n",
    "date_change=driver.find_element(By.XPATH,'/html/body/section[2]/section/section[2]/section[1]/div[1]/div/div[1]/div/ul/li[11]')\n",
    "date_change.click()"
   ]
  },
  {
   "cell_type": "code",
   "execution_count": 103,
   "id": "163d286a",
   "metadata": {},
   "outputs": [
    {
     "name": "stdout",
     "output_type": "stream",
     "text": [
      "539 539 539 539 539 539 539 539\n"
     ]
    }
   ],
   "source": [
    "airline_tag=driver.find_elements(By.XPATH,'//span[@class=\"i-b text ellipsis\"]')\n",
    "for i in airline_tag:\n",
    "    airlines.append(i.text)\n",
    "\n",
    "xyz=[]\n",
    "source_tag=driver.find_elements(By.XPATH,'//p[@class=\"fs-10 font-lightgrey no-wrap city ellipsis\" ]')\n",
    "for i in source_tag:\n",
    "    xyz.append(i.text)\n",
    "for i in range(0,len(xyz),2):\n",
    "    source.append(xyz[i])\n",
    "for i in range(1,len(xyz), 2):\n",
    "    destination.append(xyz[i])\n",
    "    \n",
    "stop_tag=driver.find_elements(By.XPATH,'//div[@class=\" font-lightgrey fs-10 tipsy i-b fs-10\"]')\n",
    "for i in stop_tag:\n",
    "    stops.append(i.text)\n",
    "    \n",
    "dpt_tag=driver.find_elements(By.XPATH,'//div[@class=\"i-b pr\"]')\n",
    "for i in dpt_tag:\n",
    "    dept_time.append(i.text)\n",
    "    \n",
    "arrival_tag=driver.find_elements(By.XPATH,'//p[@class=\"bold fs-15 mb-2 pr time\"]')\n",
    "for i in arrival_tag:\n",
    "    arrival_time.append(i.text)\n",
    "\n",
    "duration_tag=driver.find_elements(By.XPATH,'//p[@class=\"fs-12 bold du mb-2\" ]')\n",
    "for i in duration_tag:\n",
    "    total_duration.append(i.text)\n",
    "    \n",
    "price_tag=driver.find_elements(By.XPATH,'//div[@class=\"i-b tipsy fare-summary-tooltip fs-18\"]')\n",
    "for i in price_tag:\n",
    "    price.append(i.text)\n",
    "    \n",
    "print(len(airlines),len(source),len(destination),len(stops),len(dept_time),len(arrival_time),len(total_duration),len(price))"
   ]
  },
  {
   "cell_type": "code",
   "execution_count": 106,
   "id": "156760ef",
   "metadata": {},
   "outputs": [
    {
     "data": {
      "text/plain": [
       "539"
      ]
     },
     "execution_count": 106,
     "metadata": {},
     "output_type": "execute_result"
    }
   ],
   "source": [
    "\n",
    "date_tag=driver.find_elements(By.XPATH,'/html/body/section[2]/section/section[2]/section[1]/div[1]/div/div[1]/div/ul/li[11]/div/p[1]')\n",
    "for i in date_tag:\n",
    "    for j in range(368,len(price)):\n",
    "        date_of_journey.append(i.text)\n",
    "len(date_of_journey)"
   ]
  },
  {
   "cell_type": "code",
   "execution_count": 108,
   "id": "5c26855c",
   "metadata": {},
   "outputs": [],
   "source": [
    "# Location source and destination change\n",
    "driver.get(\"https://flight.yatra.com/air-search-ui/dom2/trigger?type=O&viewName=normal&flexi=0&noOfSegments=1&origin=MAA&originCountry=IN&destination=BLR&destinationCountry=IN&flight_depart_date=07%2F10%2F2022&ADT=1&CHD=0&INF=0&class=Economy&source=fresco-home&unqvaldesktop=64243525159\")"
   ]
  },
  {
   "cell_type": "code",
   "execution_count": 109,
   "id": "3221f4e0",
   "metadata": {},
   "outputs": [
    {
     "name": "stdout",
     "output_type": "stream",
     "text": [
      "596 596 596 596 596 596 596 596\n"
     ]
    }
   ],
   "source": [
    "airline_tag=driver.find_elements(By.XPATH,'//span[@class=\"i-b text ellipsis\"]')\n",
    "for i in airline_tag:\n",
    "    airlines.append(i.text)\n",
    "\n",
    "xyz=[]\n",
    "source_tag=driver.find_elements(By.XPATH,'//p[@class=\"fs-10 font-lightgrey no-wrap city ellipsis\" ]')\n",
    "for i in source_tag:\n",
    "    xyz.append(i.text)\n",
    "for i in range(0,len(xyz),2):\n",
    "    source.append(xyz[i])\n",
    "for i in range(1,len(xyz), 2):\n",
    "    destination.append(xyz[i])\n",
    "    \n",
    "stop_tag=driver.find_elements(By.XPATH,'//div[@class=\" font-lightgrey fs-10 tipsy i-b fs-10\"]')\n",
    "for i in stop_tag:\n",
    "    stops.append(i.text)\n",
    "    \n",
    "dpt_tag=driver.find_elements(By.XPATH,'//div[@class=\"i-b pr\"]')\n",
    "for i in dpt_tag:\n",
    "    dept_time.append(i.text)\n",
    "    \n",
    "arrival_tag=driver.find_elements(By.XPATH,'//p[@class=\"bold fs-15 mb-2 pr time\"]')\n",
    "for i in arrival_tag:\n",
    "    arrival_time.append(i.text)\n",
    "\n",
    "duration_tag=driver.find_elements(By.XPATH,'//p[@class=\"fs-12 bold du mb-2\" ]')\n",
    "for i in duration_tag:\n",
    "    total_duration.append(i.text)\n",
    "    \n",
    "price_tag=driver.find_elements(By.XPATH,'//div[@class=\"i-b tipsy fare-summary-tooltip fs-18\"]')\n",
    "for i in price_tag:\n",
    "    price.append(i.text)\n",
    "    \n",
    "print(len(airlines),len(source),len(destination),len(stops),len(dept_time),len(arrival_time),len(total_duration),len(price))"
   ]
  },
  {
   "cell_type": "code",
   "execution_count": 110,
   "id": "1f04de04",
   "metadata": {},
   "outputs": [
    {
     "data": {
      "text/plain": [
       "596"
      ]
     },
     "execution_count": 110,
     "metadata": {},
     "output_type": "execute_result"
    }
   ],
   "source": [
    "date_tag=driver.find_elements(By.XPATH,'/html/body/section[2]/section/section[2]/section[1]/div[1]/div/div[1]/div/ul/li[11]/div/p[1]')\n",
    "for i in date_tag:\n",
    "    for j in range(539,len(price)):\n",
    "        date_of_journey.append(i.text)\n",
    "len(date_of_journey)"
   ]
  },
  {
   "cell_type": "code",
   "execution_count": 111,
   "id": "ac269edc",
   "metadata": {},
   "outputs": [],
   "source": [
    "date_change=driver.find_element(By.XPATH,'/html/body/section[2]/section/section[2]/section[1]/div[1]/div/div[1]/div/ul/li[12]')\n",
    "date_change.click()"
   ]
  },
  {
   "cell_type": "code",
   "execution_count": 112,
   "id": "e1f738c3",
   "metadata": {},
   "outputs": [
    {
     "name": "stdout",
     "output_type": "stream",
     "text": [
      "673 673 673 673 673 673 673 673\n"
     ]
    }
   ],
   "source": [
    "airline_tag=driver.find_elements(By.XPATH,'//span[@class=\"i-b text ellipsis\"]')\n",
    "for i in airline_tag:\n",
    "    airlines.append(i.text)\n",
    "\n",
    "xyz=[]\n",
    "source_tag=driver.find_elements(By.XPATH,'//p[@class=\"fs-10 font-lightgrey no-wrap city ellipsis\" ]')\n",
    "for i in source_tag:\n",
    "    xyz.append(i.text)\n",
    "for i in range(0,len(xyz),2):\n",
    "    source.append(xyz[i])\n",
    "for i in range(1,len(xyz), 2):\n",
    "    destination.append(xyz[i])\n",
    "    \n",
    "stop_tag=driver.find_elements(By.XPATH,'//div[@class=\" font-lightgrey fs-10 tipsy i-b fs-10\"]')\n",
    "for i in stop_tag:\n",
    "    stops.append(i.text)\n",
    "    \n",
    "dpt_tag=driver.find_elements(By.XPATH,'//div[@class=\"i-b pr\"]')\n",
    "for i in dpt_tag:\n",
    "    dept_time.append(i.text)\n",
    "    \n",
    "arrival_tag=driver.find_elements(By.XPATH,'//p[@class=\"bold fs-15 mb-2 pr time\"]')\n",
    "for i in arrival_tag:\n",
    "    arrival_time.append(i.text)\n",
    "\n",
    "duration_tag=driver.find_elements(By.XPATH,'//p[@class=\"fs-12 bold du mb-2\" ]')\n",
    "for i in duration_tag:\n",
    "    total_duration.append(i.text)\n",
    "    \n",
    "price_tag=driver.find_elements(By.XPATH,'//div[@class=\"i-b tipsy fare-summary-tooltip fs-18\"]')\n",
    "for i in price_tag:\n",
    "    price.append(i.text)\n",
    "    \n",
    "print(len(airlines),len(source),len(destination),len(stops),len(dept_time),len(arrival_time),len(total_duration),len(price))"
   ]
  },
  {
   "cell_type": "code",
   "execution_count": 113,
   "id": "725eda09",
   "metadata": {},
   "outputs": [
    {
     "data": {
      "text/plain": [
       "673"
      ]
     },
     "execution_count": 113,
     "metadata": {},
     "output_type": "execute_result"
    }
   ],
   "source": [
    "date_tag=driver.find_elements(By.XPATH,'/html/body/section[2]/section/section[2]/section[1]/div[1]/div/div[1]/div/ul/li[11]/div/p[1]')\n",
    "for i in date_tag:\n",
    "    for j in range(596,len(price)):\n",
    "        date_of_journey.append(i.text)\n",
    "len(date_of_journey)"
   ]
  },
  {
   "cell_type": "code",
   "execution_count": 114,
   "id": "7e5813e6",
   "metadata": {},
   "outputs": [],
   "source": [
    "date_change=driver.find_element(By.XPATH,'/html/body/section[2]/section/section[2]/section[1]/div[1]/div/div[1]/div/ul/li[12]')\n",
    "date_change.click()"
   ]
  },
  {
   "cell_type": "code",
   "execution_count": 115,
   "id": "824004f5",
   "metadata": {},
   "outputs": [
    {
     "name": "stdout",
     "output_type": "stream",
     "text": [
      "754 754 754 754 754 754 754 754\n"
     ]
    }
   ],
   "source": [
    "airline_tag=driver.find_elements(By.XPATH,'//span[@class=\"i-b text ellipsis\"]')\n",
    "for i in airline_tag:\n",
    "    airlines.append(i.text)\n",
    "\n",
    "xyz=[]\n",
    "source_tag=driver.find_elements(By.XPATH,'//p[@class=\"fs-10 font-lightgrey no-wrap city ellipsis\" ]')\n",
    "for i in source_tag:\n",
    "    xyz.append(i.text)\n",
    "for i in range(0,len(xyz),2):\n",
    "    source.append(xyz[i])\n",
    "for i in range(1,len(xyz), 2):\n",
    "    destination.append(xyz[i])\n",
    "    \n",
    "stop_tag=driver.find_elements(By.XPATH,'//div[@class=\" font-lightgrey fs-10 tipsy i-b fs-10\"]')\n",
    "for i in stop_tag:\n",
    "    stops.append(i.text)\n",
    "    \n",
    "dpt_tag=driver.find_elements(By.XPATH,'//div[@class=\"i-b pr\"]')\n",
    "for i in dpt_tag:\n",
    "    dept_time.append(i.text)\n",
    "    \n",
    "arrival_tag=driver.find_elements(By.XPATH,'//p[@class=\"bold fs-15 mb-2 pr time\"]')\n",
    "for i in arrival_tag:\n",
    "    arrival_time.append(i.text)\n",
    "\n",
    "duration_tag=driver.find_elements(By.XPATH,'//p[@class=\"fs-12 bold du mb-2\" ]')\n",
    "for i in duration_tag:\n",
    "    total_duration.append(i.text)\n",
    "    \n",
    "price_tag=driver.find_elements(By.XPATH,'//div[@class=\"i-b tipsy fare-summary-tooltip fs-18\"]')\n",
    "for i in price_tag:\n",
    "    price.append(i.text)\n",
    "    \n",
    "print(len(airlines),len(source),len(destination),len(stops),len(dept_time),len(arrival_time),len(total_duration),len(price))"
   ]
  },
  {
   "cell_type": "code",
   "execution_count": 116,
   "id": "6181a9b0",
   "metadata": {},
   "outputs": [
    {
     "data": {
      "text/plain": [
       "754"
      ]
     },
     "execution_count": 116,
     "metadata": {},
     "output_type": "execute_result"
    }
   ],
   "source": [
    "date_tag=driver.find_elements(By.XPATH,'/html/body/section[2]/section/section[2]/section[1]/div[1]/div/div[1]/div/ul/li[11]/div/p[1]')\n",
    "for i in date_tag:\n",
    "    for j in range(673,len(price)):\n",
    "        date_of_journey.append(i.text)\n",
    "len(date_of_journey)"
   ]
  },
  {
   "cell_type": "code",
   "execution_count": 117,
   "id": "9035f7d8",
   "metadata": {},
   "outputs": [],
   "source": [
    "date_change=driver.find_element(By.XPATH,'/html/body/section[2]/section/section[2]/section[1]/div[1]/div/div[1]/div/ul/li[12]')\n",
    "date_change.click()"
   ]
  },
  {
   "cell_type": "code",
   "execution_count": 118,
   "id": "96fdfb74",
   "metadata": {},
   "outputs": [
    {
     "name": "stdout",
     "output_type": "stream",
     "text": [
      "812 812 812 812 812 812 812 812\n"
     ]
    }
   ],
   "source": [
    "airline_tag=driver.find_elements(By.XPATH,'//span[@class=\"i-b text ellipsis\"]')\n",
    "for i in airline_tag:\n",
    "    airlines.append(i.text)\n",
    "\n",
    "xyz=[]\n",
    "source_tag=driver.find_elements(By.XPATH,'//p[@class=\"fs-10 font-lightgrey no-wrap city ellipsis\" ]')\n",
    "for i in source_tag:\n",
    "    xyz.append(i.text)\n",
    "for i in range(0,len(xyz),2):\n",
    "    source.append(xyz[i])\n",
    "for i in range(1,len(xyz), 2):\n",
    "    destination.append(xyz[i])\n",
    "    \n",
    "stop_tag=driver.find_elements(By.XPATH,'//div[@class=\" font-lightgrey fs-10 tipsy i-b fs-10\"]')\n",
    "for i in stop_tag:\n",
    "    stops.append(i.text)\n",
    "    \n",
    "dpt_tag=driver.find_elements(By.XPATH,'//div[@class=\"i-b pr\"]')\n",
    "for i in dpt_tag:\n",
    "    dept_time.append(i.text)\n",
    "    \n",
    "arrival_tag=driver.find_elements(By.XPATH,'//p[@class=\"bold fs-15 mb-2 pr time\"]')\n",
    "for i in arrival_tag:\n",
    "    arrival_time.append(i.text)\n",
    "\n",
    "duration_tag=driver.find_elements(By.XPATH,'//p[@class=\"fs-12 bold du mb-2\" ]')\n",
    "for i in duration_tag:\n",
    "    total_duration.append(i.text)\n",
    "    \n",
    "price_tag=driver.find_elements(By.XPATH,'//div[@class=\"i-b tipsy fare-summary-tooltip fs-18\"]')\n",
    "for i in price_tag:\n",
    "    price.append(i.text)\n",
    "    \n",
    "print(len(airlines),len(source),len(destination),len(stops),len(dept_time),len(arrival_time),len(total_duration),len(price))"
   ]
  },
  {
   "cell_type": "code",
   "execution_count": 120,
   "id": "763b6a77",
   "metadata": {},
   "outputs": [
    {
     "data": {
      "text/plain": [
       "812"
      ]
     },
     "execution_count": 120,
     "metadata": {},
     "output_type": "execute_result"
    }
   ],
   "source": [
    "date_tag=driver.find_elements(By.XPATH,'/html/body/section[2]/section/section[2]/section[1]/div[1]/div/div[1]/div/ul/li[11]/div/p[1]')\n",
    "for i in date_tag:\n",
    "    for j in range(754,len(price)):\n",
    "        date_of_journey.append(i.text)\n",
    "len(date_of_journey)"
   ]
  },
  {
   "cell_type": "code",
   "execution_count": 121,
   "id": "46320864",
   "metadata": {},
   "outputs": [],
   "source": [
    "#source and destination change\n",
    "driver.get('https://flight.yatra.com/air-search-ui/dom2/trigger?ADT=1&CHD=0&INF=0&class=Economy&destination=MAA&destinationCountry=IN&flexi=0&flight_depart_date=07%2F10%2F2022&hb=0&noOfSegments=1&origin=BLR&originCountry=IN&type=O&unique=398733805667&version=1.1&viewName=normal')"
   ]
  },
  {
   "cell_type": "code",
   "execution_count": 122,
   "id": "e29015e5",
   "metadata": {},
   "outputs": [
    {
     "name": "stdout",
     "output_type": "stream",
     "text": [
      "867 867 867 867 867 867 867 867\n"
     ]
    }
   ],
   "source": [
    "airline_tag=driver.find_elements(By.XPATH,'//span[@class=\"i-b text ellipsis\"]')\n",
    "for i in airline_tag:\n",
    "    airlines.append(i.text)\n",
    "\n",
    "xyz=[]\n",
    "source_tag=driver.find_elements(By.XPATH,'//p[@class=\"fs-10 font-lightgrey no-wrap city ellipsis\" ]')\n",
    "for i in source_tag:\n",
    "    xyz.append(i.text)\n",
    "for i in range(0,len(xyz),2):\n",
    "    source.append(xyz[i])\n",
    "for i in range(1,len(xyz), 2):\n",
    "    destination.append(xyz[i])\n",
    "    \n",
    "stop_tag=driver.find_elements(By.XPATH,'//div[@class=\" font-lightgrey fs-10 tipsy i-b fs-10\"]')\n",
    "for i in stop_tag:\n",
    "    stops.append(i.text)\n",
    "    \n",
    "dpt_tag=driver.find_elements(By.XPATH,'//div[@class=\"i-b pr\"]')\n",
    "for i in dpt_tag:\n",
    "    dept_time.append(i.text)\n",
    "    \n",
    "arrival_tag=driver.find_elements(By.XPATH,'//p[@class=\"bold fs-15 mb-2 pr time\"]')\n",
    "for i in arrival_tag:\n",
    "    arrival_time.append(i.text)\n",
    "\n",
    "duration_tag=driver.find_elements(By.XPATH,'//p[@class=\"fs-12 bold du mb-2\" ]')\n",
    "for i in duration_tag:\n",
    "    total_duration.append(i.text)\n",
    "    \n",
    "price_tag=driver.find_elements(By.XPATH,'//div[@class=\"i-b tipsy fare-summary-tooltip fs-18\"]')\n",
    "for i in price_tag:\n",
    "    price.append(i.text)\n",
    "    \n",
    "print(len(airlines),len(source),len(destination),len(stops),len(dept_time),len(arrival_time),len(total_duration),len(price))"
   ]
  },
  {
   "cell_type": "code",
   "execution_count": 123,
   "id": "a2dfc180",
   "metadata": {},
   "outputs": [
    {
     "data": {
      "text/plain": [
       "867"
      ]
     },
     "execution_count": 123,
     "metadata": {},
     "output_type": "execute_result"
    }
   ],
   "source": [
    "date_tag=driver.find_elements(By.XPATH,'/html/body/section[2]/section/section[2]/section[1]/div[1]/div/div[1]/div/ul/li[11]/div/p[1]')\n",
    "for i in date_tag:\n",
    "    for j in range(812,len(price)):\n",
    "        date_of_journey.append(i.text)\n",
    "len(date_of_journey)"
   ]
  },
  {
   "cell_type": "code",
   "execution_count": 124,
   "id": "4550be5a",
   "metadata": {},
   "outputs": [],
   "source": [
    "#date change\n",
    "date_change=driver.find_element(By.XPATH,'/html/body/section[2]/section/section[2]/section[1]/div[1]/div/div[1]/div/ul/li[12]')\n",
    "date_change.click()"
   ]
  },
  {
   "cell_type": "code",
   "execution_count": 125,
   "id": "209d3b8b",
   "metadata": {},
   "outputs": [
    {
     "name": "stdout",
     "output_type": "stream",
     "text": [
      "923 923 923 923 923 923 923 923\n"
     ]
    }
   ],
   "source": [
    "airline_tag=driver.find_elements(By.XPATH,'//span[@class=\"i-b text ellipsis\"]')\n",
    "for i in airline_tag:\n",
    "    airlines.append(i.text)\n",
    "\n",
    "xyz=[]\n",
    "source_tag=driver.find_elements(By.XPATH,'//p[@class=\"fs-10 font-lightgrey no-wrap city ellipsis\" ]')\n",
    "for i in source_tag:\n",
    "    xyz.append(i.text)\n",
    "for i in range(0,len(xyz),2):\n",
    "    source.append(xyz[i])\n",
    "for i in range(1,len(xyz), 2):\n",
    "    destination.append(xyz[i])\n",
    "    \n",
    "stop_tag=driver.find_elements(By.XPATH,'//div[@class=\" font-lightgrey fs-10 tipsy i-b fs-10\"]')\n",
    "for i in stop_tag:\n",
    "    stops.append(i.text)\n",
    "    \n",
    "dpt_tag=driver.find_elements(By.XPATH,'//div[@class=\"i-b pr\"]')\n",
    "for i in dpt_tag:\n",
    "    dept_time.append(i.text)\n",
    "    \n",
    "arrival_tag=driver.find_elements(By.XPATH,'//p[@class=\"bold fs-15 mb-2 pr time\"]')\n",
    "for i in arrival_tag:\n",
    "    arrival_time.append(i.text)\n",
    "\n",
    "duration_tag=driver.find_elements(By.XPATH,'//p[@class=\"fs-12 bold du mb-2\" ]')\n",
    "for i in duration_tag:\n",
    "    total_duration.append(i.text)\n",
    "    \n",
    "price_tag=driver.find_elements(By.XPATH,'//div[@class=\"i-b tipsy fare-summary-tooltip fs-18\"]')\n",
    "for i in price_tag:\n",
    "    price.append(i.text)\n",
    "    \n",
    "print(len(airlines),len(source),len(destination),len(stops),len(dept_time),len(arrival_time),len(total_duration),len(price))"
   ]
  },
  {
   "cell_type": "code",
   "execution_count": 126,
   "id": "c1d46eff",
   "metadata": {},
   "outputs": [
    {
     "data": {
      "text/plain": [
       "923"
      ]
     },
     "execution_count": 126,
     "metadata": {},
     "output_type": "execute_result"
    }
   ],
   "source": [
    "date_tag=driver.find_elements(By.XPATH,'/html/body/section[2]/section/section[2]/section[1]/div[1]/div/div[1]/div/ul/li[11]/div/p[1]')\n",
    "for i in date_tag:\n",
    "    for j in range(867,len(price)):\n",
    "        date_of_journey.append(i.text)\n",
    "len(date_of_journey)"
   ]
  },
  {
   "cell_type": "code",
   "execution_count": 127,
   "id": "ef6ff3a3",
   "metadata": {},
   "outputs": [],
   "source": [
    "# date change\n",
    "date_change=driver.find_element(By.XPATH,'/html/body/section[2]/section/section[2]/section[1]/div[1]/div/div[1]/div/ul/li[12]')\n",
    "date_change.click()"
   ]
  },
  {
   "cell_type": "code",
   "execution_count": 128,
   "id": "d67fef32",
   "metadata": {},
   "outputs": [
    {
     "name": "stdout",
     "output_type": "stream",
     "text": [
      "978 978 978 978 978 978 978 978\n"
     ]
    }
   ],
   "source": [
    "airline_tag=driver.find_elements(By.XPATH,'//span[@class=\"i-b text ellipsis\"]')\n",
    "for i in airline_tag:\n",
    "    airlines.append(i.text)\n",
    "\n",
    "xyz=[]\n",
    "source_tag=driver.find_elements(By.XPATH,'//p[@class=\"fs-10 font-lightgrey no-wrap city ellipsis\" ]')\n",
    "for i in source_tag:\n",
    "    xyz.append(i.text)\n",
    "for i in range(0,len(xyz),2):\n",
    "    source.append(xyz[i])\n",
    "for i in range(1,len(xyz), 2):\n",
    "    destination.append(xyz[i])\n",
    "    \n",
    "stop_tag=driver.find_elements(By.XPATH,'//div[@class=\" font-lightgrey fs-10 tipsy i-b fs-10\"]')\n",
    "for i in stop_tag:\n",
    "    stops.append(i.text)\n",
    "    \n",
    "dpt_tag=driver.find_elements(By.XPATH,'//div[@class=\"i-b pr\"]')\n",
    "for i in dpt_tag:\n",
    "    dept_time.append(i.text)\n",
    "    \n",
    "arrival_tag=driver.find_elements(By.XPATH,'//p[@class=\"bold fs-15 mb-2 pr time\"]')\n",
    "for i in arrival_tag:\n",
    "    arrival_time.append(i.text)\n",
    "\n",
    "duration_tag=driver.find_elements(By.XPATH,'//p[@class=\"fs-12 bold du mb-2\" ]')\n",
    "for i in duration_tag:\n",
    "    total_duration.append(i.text)\n",
    "    \n",
    "price_tag=driver.find_elements(By.XPATH,'//div[@class=\"i-b tipsy fare-summary-tooltip fs-18\"]')\n",
    "for i in price_tag:\n",
    "    price.append(i.text)\n",
    "    \n",
    "print(len(airlines),len(source),len(destination),len(stops),len(dept_time),len(arrival_time),len(total_duration),len(price))"
   ]
  },
  {
   "cell_type": "code",
   "execution_count": 129,
   "id": "5add4b49",
   "metadata": {},
   "outputs": [
    {
     "data": {
      "text/plain": [
       "978"
      ]
     },
     "execution_count": 129,
     "metadata": {},
     "output_type": "execute_result"
    }
   ],
   "source": [
    "date_tag=driver.find_elements(By.XPATH,'/html/body/section[2]/section/section[2]/section[1]/div[1]/div/div[1]/div/ul/li[11]/div/p[1]')\n",
    "for i in date_tag:\n",
    "    for j in range(923,len(price)):\n",
    "        date_of_journey.append(i.text)\n",
    "len(date_of_journey)"
   ]
  },
  {
   "cell_type": "code",
   "execution_count": 130,
   "id": "7b4764f5",
   "metadata": {},
   "outputs": [],
   "source": [
    "# date change\n",
    "date_change=driver.find_element(By.XPATH,'/html/body/section[2]/section/section[2]/section[1]/div[1]/div/div[1]/div/ul/li[12]')\n",
    "date_change.click()"
   ]
  },
  {
   "cell_type": "code",
   "execution_count": 131,
   "id": "0cc65df3",
   "metadata": {},
   "outputs": [
    {
     "name": "stdout",
     "output_type": "stream",
     "text": [
      "1057 1057 1057 1057 1057 1057 1057 1057\n"
     ]
    }
   ],
   "source": [
    "airline_tag=driver.find_elements(By.XPATH,'//span[@class=\"i-b text ellipsis\"]')\n",
    "for i in airline_tag:\n",
    "    airlines.append(i.text)\n",
    "\n",
    "xyz=[]\n",
    "source_tag=driver.find_elements(By.XPATH,'//p[@class=\"fs-10 font-lightgrey no-wrap city ellipsis\" ]')\n",
    "for i in source_tag:\n",
    "    xyz.append(i.text)\n",
    "for i in range(0,len(xyz),2):\n",
    "    source.append(xyz[i])\n",
    "for i in range(1,len(xyz), 2):\n",
    "    destination.append(xyz[i])\n",
    "    \n",
    "stop_tag=driver.find_elements(By.XPATH,'//div[@class=\" font-lightgrey fs-10 tipsy i-b fs-10\"]')\n",
    "for i in stop_tag:\n",
    "    stops.append(i.text)\n",
    "    \n",
    "dpt_tag=driver.find_elements(By.XPATH,'//div[@class=\"i-b pr\"]')\n",
    "for i in dpt_tag:\n",
    "    dept_time.append(i.text)\n",
    "    \n",
    "arrival_tag=driver.find_elements(By.XPATH,'//p[@class=\"bold fs-15 mb-2 pr time\"]')\n",
    "for i in arrival_tag:\n",
    "    arrival_time.append(i.text)\n",
    "\n",
    "duration_tag=driver.find_elements(By.XPATH,'//p[@class=\"fs-12 bold du mb-2\" ]')\n",
    "for i in duration_tag:\n",
    "    total_duration.append(i.text)\n",
    "    \n",
    "price_tag=driver.find_elements(By.XPATH,'//div[@class=\"i-b tipsy fare-summary-tooltip fs-18\"]')\n",
    "for i in price_tag:\n",
    "    price.append(i.text)\n",
    "    \n",
    "print(len(airlines),len(source),len(destination),len(stops),len(dept_time),len(arrival_time),len(total_duration),len(price))"
   ]
  },
  {
   "cell_type": "code",
   "execution_count": 132,
   "id": "1c604a80",
   "metadata": {},
   "outputs": [
    {
     "data": {
      "text/plain": [
       "1057"
      ]
     },
     "execution_count": 132,
     "metadata": {},
     "output_type": "execute_result"
    }
   ],
   "source": [
    "date_tag=driver.find_elements(By.XPATH,'/html/body/section[2]/section/section[2]/section[1]/div[1]/div/div[1]/div/ul/li[11]/div/p[1]')\n",
    "for i in date_tag:\n",
    "    for j in range(978,len(price)):\n",
    "        date_of_journey.append(i.text)\n",
    "len(date_of_journey)"
   ]
  },
  {
   "cell_type": "code",
   "execution_count": 133,
   "id": "f57e67a3",
   "metadata": {},
   "outputs": [],
   "source": [
    "# Location change\n",
    "driver.get('https://flight.yatra.com/air-search-ui/dom2/trigger?ADT=1&CHD=0&INF=0&class=Economy&destination=CCU&destinationCountry=IN&flexi=0&flight_depart_date=07%2F10%2F2022&hb=0&noOfSegments=1&origin=HYD&originCountry=IN&type=O&unique=960167666916&version=1.1&viewName=normal')\n"
   ]
  },
  {
   "cell_type": "code",
   "execution_count": 134,
   "id": "2c88752e",
   "metadata": {},
   "outputs": [
    {
     "name": "stdout",
     "output_type": "stream",
     "text": [
      "1164 1164 1164 1164 1164 1164 1164 1164\n"
     ]
    }
   ],
   "source": [
    "airline_tag=driver.find_elements(By.XPATH,'//span[@class=\"i-b text ellipsis\"]')\n",
    "for i in airline_tag:\n",
    "    airlines.append(i.text)\n",
    "\n",
    "xyz=[]\n",
    "source_tag=driver.find_elements(By.XPATH,'//p[@class=\"fs-10 font-lightgrey no-wrap city ellipsis\" ]')\n",
    "for i in source_tag:\n",
    "    xyz.append(i.text)\n",
    "for i in range(0,len(xyz),2):\n",
    "    source.append(xyz[i])\n",
    "for i in range(1,len(xyz), 2):\n",
    "    destination.append(xyz[i])\n",
    "    \n",
    "stop_tag=driver.find_elements(By.XPATH,'//div[@class=\" font-lightgrey fs-10 tipsy i-b fs-10\"]')\n",
    "for i in stop_tag:\n",
    "    stops.append(i.text)\n",
    "    \n",
    "dpt_tag=driver.find_elements(By.XPATH,'//div[@class=\"i-b pr\"]')\n",
    "for i in dpt_tag:\n",
    "    dept_time.append(i.text)\n",
    "    \n",
    "arrival_tag=driver.find_elements(By.XPATH,'//p[@class=\"bold fs-15 mb-2 pr time\"]')\n",
    "for i in arrival_tag:\n",
    "    arrival_time.append(i.text)\n",
    "\n",
    "duration_tag=driver.find_elements(By.XPATH,'//p[@class=\"fs-12 bold du mb-2\" ]')\n",
    "for i in duration_tag:\n",
    "    total_duration.append(i.text)\n",
    "    \n",
    "price_tag=driver.find_elements(By.XPATH,'//div[@class=\"i-b tipsy fare-summary-tooltip fs-18\"]')\n",
    "for i in price_tag:\n",
    "    price.append(i.text)\n",
    "    \n",
    "print(len(airlines),len(source),len(destination),len(stops),len(dept_time),len(arrival_time),len(total_duration),len(price))"
   ]
  },
  {
   "cell_type": "code",
   "execution_count": 135,
   "id": "438cfec3",
   "metadata": {},
   "outputs": [
    {
     "data": {
      "text/plain": [
       "1164"
      ]
     },
     "execution_count": 135,
     "metadata": {},
     "output_type": "execute_result"
    }
   ],
   "source": [
    "date_tag=driver.find_elements(By.XPATH,'/html/body/section[2]/section/section[2]/section[1]/div[1]/div/div[1]/div/ul/li[11]/div/p[1]')\n",
    "for i in date_tag:\n",
    "    for j in range(1057,len(price)):\n",
    "        date_of_journey.append(i.text)\n",
    "len(date_of_journey)"
   ]
  },
  {
   "cell_type": "code",
   "execution_count": 136,
   "id": "d925fca3",
   "metadata": {},
   "outputs": [],
   "source": [
    "# date change\n",
    "date_change=driver.find_element(By.XPATH,'/html/body/section[2]/section/section[2]/section[1]/div[1]/div/div[1]/div/ul/li[12]')\n",
    "date_change.click()"
   ]
  },
  {
   "cell_type": "code",
   "execution_count": 137,
   "id": "6f27ce70",
   "metadata": {},
   "outputs": [
    {
     "name": "stdout",
     "output_type": "stream",
     "text": [
      "1272 1272 1272 1272 1272 1272 1272 1272\n"
     ]
    }
   ],
   "source": [
    "airline_tag=driver.find_elements(By.XPATH,'//span[@class=\"i-b text ellipsis\"]')\n",
    "for i in airline_tag:\n",
    "    airlines.append(i.text)\n",
    "\n",
    "xyz=[]\n",
    "source_tag=driver.find_elements(By.XPATH,'//p[@class=\"fs-10 font-lightgrey no-wrap city ellipsis\" ]')\n",
    "for i in source_tag:\n",
    "    xyz.append(i.text)\n",
    "for i in range(0,len(xyz),2):\n",
    "    source.append(xyz[i])\n",
    "for i in range(1,len(xyz), 2):\n",
    "    destination.append(xyz[i])\n",
    "    \n",
    "stop_tag=driver.find_elements(By.XPATH,'//div[@class=\" font-lightgrey fs-10 tipsy i-b fs-10\"]')\n",
    "for i in stop_tag:\n",
    "    stops.append(i.text)\n",
    "    \n",
    "dpt_tag=driver.find_elements(By.XPATH,'//div[@class=\"i-b pr\"]')\n",
    "for i in dpt_tag:\n",
    "    dept_time.append(i.text)\n",
    "    \n",
    "arrival_tag=driver.find_elements(By.XPATH,'//p[@class=\"bold fs-15 mb-2 pr time\"]')\n",
    "for i in arrival_tag:\n",
    "    arrival_time.append(i.text)\n",
    "\n",
    "duration_tag=driver.find_elements(By.XPATH,'//p[@class=\"fs-12 bold du mb-2\" ]')\n",
    "for i in duration_tag:\n",
    "    total_duration.append(i.text)\n",
    "    \n",
    "price_tag=driver.find_elements(By.XPATH,'//div[@class=\"i-b tipsy fare-summary-tooltip fs-18\"]')\n",
    "for i in price_tag:\n",
    "    price.append(i.text)\n",
    "    \n",
    "print(len(airlines),len(source),len(destination),len(stops),len(dept_time),len(arrival_time),len(total_duration),len(price))"
   ]
  },
  {
   "cell_type": "code",
   "execution_count": 138,
   "id": "a57ea60d",
   "metadata": {},
   "outputs": [
    {
     "data": {
      "text/plain": [
       "1272"
      ]
     },
     "execution_count": 138,
     "metadata": {},
     "output_type": "execute_result"
    }
   ],
   "source": [
    "date_tag=driver.find_elements(By.XPATH,'/html/body/section[2]/section/section[2]/section[1]/div[1]/div/div[1]/div/ul/li[11]/div/p[1]')\n",
    "for i in date_tag:\n",
    "    for j in range(1164,len(price)):\n",
    "        date_of_journey.append(i.text)\n",
    "len(date_of_journey)"
   ]
  },
  {
   "cell_type": "code",
   "execution_count": 139,
   "id": "cba77a70",
   "metadata": {},
   "outputs": [],
   "source": [
    "# date change\n",
    "date_change=driver.find_element(By.XPATH,'/html/body/section[2]/section/section[2]/section[1]/div[1]/div/div[1]/div/ul/li[12]')\n",
    "date_change.click()"
   ]
  },
  {
   "cell_type": "code",
   "execution_count": 140,
   "id": "891ac8b8",
   "metadata": {},
   "outputs": [
    {
     "name": "stdout",
     "output_type": "stream",
     "text": [
      "1297 1297 1297 1297 1297 1297 1297 1297\n"
     ]
    }
   ],
   "source": [
    "airline_tag=driver.find_elements(By.XPATH,'//span[@class=\"i-b text ellipsis\"]')\n",
    "for i in airline_tag:\n",
    "    airlines.append(i.text)\n",
    "\n",
    "xyz=[]\n",
    "source_tag=driver.find_elements(By.XPATH,'//p[@class=\"fs-10 font-lightgrey no-wrap city ellipsis\" ]')\n",
    "for i in source_tag:\n",
    "    xyz.append(i.text)\n",
    "for i in range(0,len(xyz),2):\n",
    "    source.append(xyz[i])\n",
    "for i in range(1,len(xyz), 2):\n",
    "    destination.append(xyz[i])\n",
    "    \n",
    "stop_tag=driver.find_elements(By.XPATH,'//div[@class=\" font-lightgrey fs-10 tipsy i-b fs-10\"]')\n",
    "for i in stop_tag:\n",
    "    stops.append(i.text)\n",
    "    \n",
    "dpt_tag=driver.find_elements(By.XPATH,'//div[@class=\"i-b pr\"]')\n",
    "for i in dpt_tag:\n",
    "    dept_time.append(i.text)\n",
    "    \n",
    "arrival_tag=driver.find_elements(By.XPATH,'//p[@class=\"bold fs-15 mb-2 pr time\"]')\n",
    "for i in arrival_tag:\n",
    "    arrival_time.append(i.text)\n",
    "\n",
    "duration_tag=driver.find_elements(By.XPATH,'//p[@class=\"fs-12 bold du mb-2\" ]')\n",
    "for i in duration_tag:\n",
    "    total_duration.append(i.text)\n",
    "    \n",
    "price_tag=driver.find_elements(By.XPATH,'//div[@class=\"i-b tipsy fare-summary-tooltip fs-18\"]')\n",
    "for i in price_tag:\n",
    "    price.append(i.text)\n",
    "    \n",
    "print(len(airlines),len(source),len(destination),len(stops),len(dept_time),len(arrival_time),len(total_duration),len(price))"
   ]
  },
  {
   "cell_type": "code",
   "execution_count": 141,
   "id": "265810ea",
   "metadata": {},
   "outputs": [
    {
     "data": {
      "text/plain": [
       "1297"
      ]
     },
     "execution_count": 141,
     "metadata": {},
     "output_type": "execute_result"
    }
   ],
   "source": [
    "date_tag=driver.find_elements(By.XPATH,'/html/body/section[2]/section/section[2]/section[1]/div[1]/div/div[1]/div/ul/li[11]/div/p[1]')\n",
    "for i in date_tag:\n",
    "    for j in range(1272,len(price)):\n",
    "        date_of_journey.append(i.text)\n",
    "len(date_of_journey)"
   ]
  },
  {
   "cell_type": "code",
   "execution_count": 142,
   "id": "0ac43ebe",
   "metadata": {},
   "outputs": [],
   "source": [
    "#date change\n",
    "date_change=driver.find_element(By.XPATH,'/html/body/section[2]/section/section[2]/section[1]/div[1]/div/div[1]/div/ul/li[12]')\n",
    "date_change.click()"
   ]
  },
  {
   "cell_type": "code",
   "execution_count": 143,
   "id": "91d82935",
   "metadata": {},
   "outputs": [
    {
     "name": "stdout",
     "output_type": "stream",
     "text": [
      "1405 1405 1405 1405 1405 1405 1405 1405\n"
     ]
    }
   ],
   "source": [
    "airline_tag=driver.find_elements(By.XPATH,'//span[@class=\"i-b text ellipsis\"]')\n",
    "for i in airline_tag:\n",
    "    airlines.append(i.text)\n",
    "\n",
    "xyz=[]\n",
    "source_tag=driver.find_elements(By.XPATH,'//p[@class=\"fs-10 font-lightgrey no-wrap city ellipsis\" ]')\n",
    "for i in source_tag:\n",
    "    xyz.append(i.text)\n",
    "for i in range(0,len(xyz),2):\n",
    "    source.append(xyz[i])\n",
    "for i in range(1,len(xyz), 2):\n",
    "    destination.append(xyz[i])\n",
    "    \n",
    "stop_tag=driver.find_elements(By.XPATH,'//div[@class=\" font-lightgrey fs-10 tipsy i-b fs-10\"]')\n",
    "for i in stop_tag:\n",
    "    stops.append(i.text)\n",
    "    \n",
    "dpt_tag=driver.find_elements(By.XPATH,'//div[@class=\"i-b pr\"]')\n",
    "for i in dpt_tag:\n",
    "    dept_time.append(i.text)\n",
    "    \n",
    "arrival_tag=driver.find_elements(By.XPATH,'//p[@class=\"bold fs-15 mb-2 pr time\"]')\n",
    "for i in arrival_tag:\n",
    "    arrival_time.append(i.text)\n",
    "\n",
    "duration_tag=driver.find_elements(By.XPATH,'//p[@class=\"fs-12 bold du mb-2\" ]')\n",
    "for i in duration_tag:\n",
    "    total_duration.append(i.text)\n",
    "    \n",
    "price_tag=driver.find_elements(By.XPATH,'//div[@class=\"i-b tipsy fare-summary-tooltip fs-18\"]')\n",
    "for i in price_tag:\n",
    "    price.append(i.text)\n",
    "    \n",
    "print(len(airlines),len(source),len(destination),len(stops),len(dept_time),len(arrival_time),len(total_duration),len(price))"
   ]
  },
  {
   "cell_type": "code",
   "execution_count": 144,
   "id": "93e3b442",
   "metadata": {},
   "outputs": [
    {
     "data": {
      "text/plain": [
       "1405"
      ]
     },
     "execution_count": 144,
     "metadata": {},
     "output_type": "execute_result"
    }
   ],
   "source": [
    "date_tag=driver.find_elements(By.XPATH,'/html/body/section[2]/section/section[2]/section[1]/div[1]/div/div[1]/div/ul/li[11]/div/p[1]')\n",
    "for i in date_tag:\n",
    "    for j in range(1297,len(price)):\n",
    "        date_of_journey.append(i.text)\n",
    "len(date_of_journey)"
   ]
  },
  {
   "cell_type": "code",
   "execution_count": 145,
   "id": "855a2503",
   "metadata": {},
   "outputs": [],
   "source": [
    "# date change\n",
    "date_change=driver.find_element(By.XPATH,'/html/body/section[2]/section/section[2]/section[1]/div[1]/div/div[1]/div/ul/li[12]')\n",
    "date_change.click()"
   ]
  },
  {
   "cell_type": "code",
   "execution_count": 146,
   "id": "434c3541",
   "metadata": {},
   "outputs": [
    {
     "name": "stdout",
     "output_type": "stream",
     "text": [
      "1522 1522 1522 1522 1522 1522 1522 1522\n"
     ]
    }
   ],
   "source": [
    "airline_tag=driver.find_elements(By.XPATH,'//span[@class=\"i-b text ellipsis\"]')\n",
    "for i in airline_tag:\n",
    "    airlines.append(i.text)\n",
    "\n",
    "xyz=[]\n",
    "source_tag=driver.find_elements(By.XPATH,'//p[@class=\"fs-10 font-lightgrey no-wrap city ellipsis\" ]')\n",
    "for i in source_tag:\n",
    "    xyz.append(i.text)\n",
    "for i in range(0,len(xyz),2):\n",
    "    source.append(xyz[i])\n",
    "for i in range(1,len(xyz), 2):\n",
    "    destination.append(xyz[i])\n",
    "    \n",
    "stop_tag=driver.find_elements(By.XPATH,'//div[@class=\" font-lightgrey fs-10 tipsy i-b fs-10\"]')\n",
    "for i in stop_tag:\n",
    "    stops.append(i.text)\n",
    "    \n",
    "dpt_tag=driver.find_elements(By.XPATH,'//div[@class=\"i-b pr\"]')\n",
    "for i in dpt_tag:\n",
    "    dept_time.append(i.text)\n",
    "    \n",
    "arrival_tag=driver.find_elements(By.XPATH,'//p[@class=\"bold fs-15 mb-2 pr time\"]')\n",
    "for i in arrival_tag:\n",
    "    arrival_time.append(i.text)\n",
    "\n",
    "duration_tag=driver.find_elements(By.XPATH,'//p[@class=\"fs-12 bold du mb-2\" ]')\n",
    "for i in duration_tag:\n",
    "    total_duration.append(i.text)\n",
    "    \n",
    "price_tag=driver.find_elements(By.XPATH,'//div[@class=\"i-b tipsy fare-summary-tooltip fs-18\"]')\n",
    "for i in price_tag:\n",
    "    price.append(i.text)\n",
    "    \n",
    "print(len(airlines),len(source),len(destination),len(stops),len(dept_time),len(arrival_time),len(total_duration),len(price))"
   ]
  },
  {
   "cell_type": "code",
   "execution_count": 147,
   "id": "d5cecf68",
   "metadata": {},
   "outputs": [
    {
     "data": {
      "text/plain": [
       "1522"
      ]
     },
     "execution_count": 147,
     "metadata": {},
     "output_type": "execute_result"
    }
   ],
   "source": [
    "date_tag=driver.find_elements(By.XPATH,'/html/body/section[2]/section/section[2]/section[1]/div[1]/div/div[1]/div/ul/li[11]/div/p[1]')\n",
    "for i in date_tag:\n",
    "    for j in range(1405,len(price)):\n",
    "        date_of_journey.append(i.text)\n",
    "len(date_of_journey)"
   ]
  },
  {
   "cell_type": "code",
   "execution_count": 148,
   "id": "346ecb8c",
   "metadata": {},
   "outputs": [],
   "source": [
    "#location change\n",
    "driver.get('https://flight.yatra.com/air-search-ui/dom2/trigger?ADT=1&CHD=0&INF=0&class=Economy&destination=HYD&destinationCountry=IN&flexi=0&flight_depart_date=07%2F10%2F2022&hb=0&noOfSegments=1&origin=CCU&originCountry=IN&type=O&unique=1365392984167&version=1.1&viewName=normal')"
   ]
  },
  {
   "cell_type": "code",
   "execution_count": 149,
   "id": "ddd492b9",
   "metadata": {},
   "outputs": [
    {
     "name": "stdout",
     "output_type": "stream",
     "text": [
      "1625 1625 1625 1625 1625 1625 1625 1625\n"
     ]
    }
   ],
   "source": [
    "airline_tag=driver.find_elements(By.XPATH,'//span[@class=\"i-b text ellipsis\"]')\n",
    "for i in airline_tag:\n",
    "    airlines.append(i.text)\n",
    "\n",
    "xyz=[]\n",
    "source_tag=driver.find_elements(By.XPATH,'//p[@class=\"fs-10 font-lightgrey no-wrap city ellipsis\" ]')\n",
    "for i in source_tag:\n",
    "    xyz.append(i.text)\n",
    "for i in range(0,len(xyz),2):\n",
    "    source.append(xyz[i])\n",
    "for i in range(1,len(xyz), 2):\n",
    "    destination.append(xyz[i])\n",
    "    \n",
    "stop_tag=driver.find_elements(By.XPATH,'//div[@class=\" font-lightgrey fs-10 tipsy i-b fs-10\"]')\n",
    "for i in stop_tag:\n",
    "    stops.append(i.text)\n",
    "    \n",
    "dpt_tag=driver.find_elements(By.XPATH,'//div[@class=\"i-b pr\"]')\n",
    "for i in dpt_tag:\n",
    "    dept_time.append(i.text)\n",
    "    \n",
    "arrival_tag=driver.find_elements(By.XPATH,'//p[@class=\"bold fs-15 mb-2 pr time\"]')\n",
    "for i in arrival_tag:\n",
    "    arrival_time.append(i.text)\n",
    "\n",
    "duration_tag=driver.find_elements(By.XPATH,'//p[@class=\"fs-12 bold du mb-2\" ]')\n",
    "for i in duration_tag:\n",
    "    total_duration.append(i.text)\n",
    "    \n",
    "price_tag=driver.find_elements(By.XPATH,'//div[@class=\"i-b tipsy fare-summary-tooltip fs-18\"]')\n",
    "for i in price_tag:\n",
    "    price.append(i.text)\n",
    "    \n",
    "print(len(airlines),len(source),len(destination),len(stops),len(dept_time),len(arrival_time),len(total_duration),len(price))"
   ]
  },
  {
   "cell_type": "code",
   "execution_count": 150,
   "id": "a59669a3",
   "metadata": {},
   "outputs": [
    {
     "data": {
      "text/plain": [
       "1625"
      ]
     },
     "execution_count": 150,
     "metadata": {},
     "output_type": "execute_result"
    }
   ],
   "source": [
    "date_tag=driver.find_elements(By.XPATH,'/html/body/section[2]/section/section[2]/section[1]/div[1]/div/div[1]/div/ul/li[11]/div/p[1]')\n",
    "for i in date_tag:\n",
    "    for j in range(1522,len(price)):\n",
    "        date_of_journey.append(i.text)\n",
    "len(date_of_journey)"
   ]
  },
  {
   "cell_type": "code",
   "execution_count": 151,
   "id": "e68305f7",
   "metadata": {},
   "outputs": [],
   "source": [
    "# date change\n",
    "date_change=driver.find_element(By.XPATH,'/html/body/section[2]/section/section[2]/section[1]/div[1]/div/div[1]/div/ul/li[12]')\n",
    "date_change.click()"
   ]
  },
  {
   "cell_type": "code",
   "execution_count": 152,
   "id": "5d4c1a5f",
   "metadata": {},
   "outputs": [
    {
     "name": "stdout",
     "output_type": "stream",
     "text": [
      "1735 1735 1735 1735 1735 1735 1735 1735\n"
     ]
    }
   ],
   "source": [
    "airline_tag=driver.find_elements(By.XPATH,'//span[@class=\"i-b text ellipsis\"]')\n",
    "for i in airline_tag:\n",
    "    airlines.append(i.text)\n",
    "\n",
    "xyz=[]\n",
    "source_tag=driver.find_elements(By.XPATH,'//p[@class=\"fs-10 font-lightgrey no-wrap city ellipsis\" ]')\n",
    "for i in source_tag:\n",
    "    xyz.append(i.text)\n",
    "for i in range(0,len(xyz),2):\n",
    "    source.append(xyz[i])\n",
    "for i in range(1,len(xyz), 2):\n",
    "    destination.append(xyz[i])\n",
    "    \n",
    "stop_tag=driver.find_elements(By.XPATH,'//div[@class=\" font-lightgrey fs-10 tipsy i-b fs-10\"]')\n",
    "for i in stop_tag:\n",
    "    stops.append(i.text)\n",
    "    \n",
    "dpt_tag=driver.find_elements(By.XPATH,'//div[@class=\"i-b pr\"]')\n",
    "for i in dpt_tag:\n",
    "    dept_time.append(i.text)\n",
    "    \n",
    "arrival_tag=driver.find_elements(By.XPATH,'//p[@class=\"bold fs-15 mb-2 pr time\"]')\n",
    "for i in arrival_tag:\n",
    "    arrival_time.append(i.text)\n",
    "\n",
    "duration_tag=driver.find_elements(By.XPATH,'//p[@class=\"fs-12 bold du mb-2\" ]')\n",
    "for i in duration_tag:\n",
    "    total_duration.append(i.text)\n",
    "    \n",
    "price_tag=driver.find_elements(By.XPATH,'//div[@class=\"i-b tipsy fare-summary-tooltip fs-18\"]')\n",
    "for i in price_tag:\n",
    "    price.append(i.text)\n",
    "    \n",
    "print(len(airlines),len(source),len(destination),len(stops),len(dept_time),len(arrival_time),len(total_duration),len(price))"
   ]
  },
  {
   "cell_type": "code",
   "execution_count": 153,
   "id": "06d33117",
   "metadata": {},
   "outputs": [
    {
     "data": {
      "text/plain": [
       "1735"
      ]
     },
     "execution_count": 153,
     "metadata": {},
     "output_type": "execute_result"
    }
   ],
   "source": [
    "date_tag=driver.find_elements(By.XPATH,'/html/body/section[2]/section/section[2]/section[1]/div[1]/div/div[1]/div/ul/li[11]/div/p[1]')\n",
    "for i in date_tag:\n",
    "    for j in range(1625,len(price)):\n",
    "        date_of_journey.append(i.text)\n",
    "len(date_of_journey)"
   ]
  },
  {
   "cell_type": "code",
   "execution_count": 154,
   "id": "43ba07db",
   "metadata": {},
   "outputs": [],
   "source": [
    "#  Date Change\n",
    "date_change=driver.find_element(By.XPATH,'/html/body/section[2]/section/section[2]/section[1]/div[1]/div/div[1]/div/ul/li[12]')\n",
    "date_change.click()"
   ]
  },
  {
   "cell_type": "code",
   "execution_count": 155,
   "id": "d77a3494",
   "metadata": {},
   "outputs": [
    {
     "name": "stdout",
     "output_type": "stream",
     "text": [
      "1842 1842 1842 1842 1842 1842 1842 1842\n"
     ]
    }
   ],
   "source": [
    "airline_tag=driver.find_elements(By.XPATH,'//span[@class=\"i-b text ellipsis\"]')\n",
    "for i in airline_tag:\n",
    "    airlines.append(i.text)\n",
    "\n",
    "xyz=[]\n",
    "source_tag=driver.find_elements(By.XPATH,'//p[@class=\"fs-10 font-lightgrey no-wrap city ellipsis\" ]')\n",
    "for i in source_tag:\n",
    "    xyz.append(i.text)\n",
    "for i in range(0,len(xyz),2):\n",
    "    source.append(xyz[i])\n",
    "for i in range(1,len(xyz), 2):\n",
    "    destination.append(xyz[i])\n",
    "    \n",
    "stop_tag=driver.find_elements(By.XPATH,'//div[@class=\" font-lightgrey fs-10 tipsy i-b fs-10\"]')\n",
    "for i in stop_tag:\n",
    "    stops.append(i.text)\n",
    "    \n",
    "dpt_tag=driver.find_elements(By.XPATH,'//div[@class=\"i-b pr\"]')\n",
    "for i in dpt_tag:\n",
    "    dept_time.append(i.text)\n",
    "    \n",
    "arrival_tag=driver.find_elements(By.XPATH,'//p[@class=\"bold fs-15 mb-2 pr time\"]')\n",
    "for i in arrival_tag:\n",
    "    arrival_time.append(i.text)\n",
    "\n",
    "duration_tag=driver.find_elements(By.XPATH,'//p[@class=\"fs-12 bold du mb-2\" ]')\n",
    "for i in duration_tag:\n",
    "    total_duration.append(i.text)\n",
    "    \n",
    "price_tag=driver.find_elements(By.XPATH,'//div[@class=\"i-b tipsy fare-summary-tooltip fs-18\"]')\n",
    "for i in price_tag:\n",
    "    price.append(i.text)\n",
    "    \n",
    "print(len(airlines),len(source),len(destination),len(stops),len(dept_time),len(arrival_time),len(total_duration),len(price))"
   ]
  },
  {
   "cell_type": "code",
   "execution_count": 156,
   "id": "825a684a",
   "metadata": {},
   "outputs": [
    {
     "data": {
      "text/plain": [
       "1842"
      ]
     },
     "execution_count": 156,
     "metadata": {},
     "output_type": "execute_result"
    }
   ],
   "source": [
    "date_tag=driver.find_elements(By.XPATH,'/html/body/section[2]/section/section[2]/section[1]/div[1]/div/div[1]/div/ul/li[11]/div/p[1]')\n",
    "for i in date_tag:\n",
    "    for j in range(1735,len(price)):\n",
    "        date_of_journey.append(i.text)\n",
    "len(date_of_journey)"
   ]
  },
  {
   "cell_type": "code",
   "execution_count": 157,
   "id": "8618a303",
   "metadata": {},
   "outputs": [],
   "source": [
    "# date change\n",
    "date_change=driver.find_element(By.XPATH,'/html/body/section[2]/section/section[2]/section[1]/div[1]/div/div[1]/div/ul/li[12]')\n",
    "date_change.click()"
   ]
  },
  {
   "cell_type": "code",
   "execution_count": 158,
   "id": "d22fa810",
   "metadata": {},
   "outputs": [
    {
     "name": "stdout",
     "output_type": "stream",
     "text": [
      "1950 1950 1950 1950 1950 1950 1950 1950\n"
     ]
    }
   ],
   "source": [
    "airline_tag=driver.find_elements(By.XPATH,'//span[@class=\"i-b text ellipsis\"]')\n",
    "for i in airline_tag:\n",
    "    airlines.append(i.text)\n",
    "\n",
    "xyz=[]\n",
    "source_tag=driver.find_elements(By.XPATH,'//p[@class=\"fs-10 font-lightgrey no-wrap city ellipsis\" ]')\n",
    "for i in source_tag:\n",
    "    xyz.append(i.text)\n",
    "for i in range(0,len(xyz),2):\n",
    "    source.append(xyz[i])\n",
    "for i in range(1,len(xyz), 2):\n",
    "    destination.append(xyz[i])\n",
    "    \n",
    "stop_tag=driver.find_elements(By.XPATH,'//div[@class=\" font-lightgrey fs-10 tipsy i-b fs-10\"]')\n",
    "for i in stop_tag:\n",
    "    stops.append(i.text)\n",
    "    \n",
    "dpt_tag=driver.find_elements(By.XPATH,'//div[@class=\"i-b pr\"]')\n",
    "for i in dpt_tag:\n",
    "    dept_time.append(i.text)\n",
    "    \n",
    "arrival_tag=driver.find_elements(By.XPATH,'//p[@class=\"bold fs-15 mb-2 pr time\"]')\n",
    "for i in arrival_tag:\n",
    "    arrival_time.append(i.text)\n",
    "\n",
    "duration_tag=driver.find_elements(By.XPATH,'//p[@class=\"fs-12 bold du mb-2\" ]')\n",
    "for i in duration_tag:\n",
    "    total_duration.append(i.text)\n",
    "    \n",
    "price_tag=driver.find_elements(By.XPATH,'//div[@class=\"i-b tipsy fare-summary-tooltip fs-18\"]')\n",
    "for i in price_tag:\n",
    "    price.append(i.text)\n",
    "    \n",
    "print(len(airlines),len(source),len(destination),len(stops),len(dept_time),len(arrival_time),len(total_duration),len(price))"
   ]
  },
  {
   "cell_type": "code",
   "execution_count": 159,
   "id": "2d6ee9d3",
   "metadata": {},
   "outputs": [
    {
     "data": {
      "text/plain": [
       "1950"
      ]
     },
     "execution_count": 159,
     "metadata": {},
     "output_type": "execute_result"
    }
   ],
   "source": [
    "date_tag=driver.find_elements(By.XPATH,'/html/body/section[2]/section/section[2]/section[1]/div[1]/div/div[1]/div/ul/li[11]/div/p[1]')\n",
    "for i in date_tag:\n",
    "    for j in range(1842, len(price)):\n",
    "        date_of_journey.append(i.text)\n",
    "len(date_of_journey)"
   ]
  },
  {
   "cell_type": "code",
   "execution_count": 160,
   "id": "25da9bab",
   "metadata": {},
   "outputs": [],
   "source": [
    "# Date change\n",
    "date_change=driver.find_element(By.XPATH,'/html/body/section[2]/section/section[2]/section[1]/div[1]/div/div[1]/div/ul/li[12]')\n",
    "date_change.click()"
   ]
  },
  {
   "cell_type": "code",
   "execution_count": 161,
   "id": "2e0ba778",
   "metadata": {},
   "outputs": [
    {
     "name": "stdout",
     "output_type": "stream",
     "text": [
      "2061 2061 2061 2061 2061 2061 2061 2061\n"
     ]
    }
   ],
   "source": [
    "airline_tag=driver.find_elements(By.XPATH,'//span[@class=\"i-b text ellipsis\"]')\n",
    "for i in airline_tag:\n",
    "    airlines.append(i.text)\n",
    "\n",
    "xyz=[]\n",
    "source_tag=driver.find_elements(By.XPATH,'//p[@class=\"fs-10 font-lightgrey no-wrap city ellipsis\" ]')\n",
    "for i in source_tag:\n",
    "    xyz.append(i.text)\n",
    "for i in range(0,len(xyz),2):\n",
    "    source.append(xyz[i])\n",
    "for i in range(1,len(xyz), 2):\n",
    "    destination.append(xyz[i])\n",
    "    \n",
    "stop_tag=driver.find_elements(By.XPATH,'//div[@class=\" font-lightgrey fs-10 tipsy i-b fs-10\"]')\n",
    "for i in stop_tag:\n",
    "    stops.append(i.text)\n",
    "    \n",
    "dpt_tag=driver.find_elements(By.XPATH,'//div[@class=\"i-b pr\"]')\n",
    "for i in dpt_tag:\n",
    "    dept_time.append(i.text)\n",
    "    \n",
    "arrival_tag=driver.find_elements(By.XPATH,'//p[@class=\"bold fs-15 mb-2 pr time\"]')\n",
    "for i in arrival_tag:\n",
    "    arrival_time.append(i.text)\n",
    "\n",
    "duration_tag=driver.find_elements(By.XPATH,'//p[@class=\"fs-12 bold du mb-2\" ]')\n",
    "for i in duration_tag:\n",
    "    total_duration.append(i.text)\n",
    "    \n",
    "price_tag=driver.find_elements(By.XPATH,'//div[@class=\"i-b tipsy fare-summary-tooltip fs-18\"]')\n",
    "for i in price_tag:\n",
    "    price.append(i.text)\n",
    "    \n",
    "print(len(airlines),len(source),len(destination),len(stops),len(dept_time),len(arrival_time),len(total_duration),len(price))"
   ]
  },
  {
   "cell_type": "code",
   "execution_count": 162,
   "id": "81c5b7e6",
   "metadata": {},
   "outputs": [
    {
     "data": {
      "text/plain": [
       "2061"
      ]
     },
     "execution_count": 162,
     "metadata": {},
     "output_type": "execute_result"
    }
   ],
   "source": [
    "date_tag=driver.find_elements(By.XPATH,'/html/body/section[2]/section/section[2]/section[1]/div[1]/div/div[1]/div/ul/li[11]/div/p[1]')\n",
    "for i in date_tag:\n",
    "    for j in range(1950,len(price)):\n",
    "        date_of_journey.append(i.text)\n",
    "len(date_of_journey)"
   ]
  },
  {
   "cell_type": "code",
   "execution_count": 163,
   "id": "c7aadee6",
   "metadata": {},
   "outputs": [],
   "source": [
    "# Location change\n",
    "\n",
    "driver.get('https://flight.yatra.com/air-search-ui/dom2/trigger?ADT=1&CHD=0&INF=0&class=Economy&destination=CCU&destinationCountry=IN&flexi=0&flight_depart_date=07%2F10%2F2022&hb=0&noOfSegments=1&origin=DEL&originCountry=IN&type=O&unique=1058852124&version=1.1&viewName=normal')"
   ]
  },
  {
   "cell_type": "code",
   "execution_count": 164,
   "id": "c827f51f",
   "metadata": {},
   "outputs": [
    {
     "name": "stdout",
     "output_type": "stream",
     "text": [
      "2204 2204 2204 2204 2204 2204 2204 2204\n"
     ]
    }
   ],
   "source": [
    "airline_tag=driver.find_elements(By.XPATH,'//span[@class=\"i-b text ellipsis\"]')\n",
    "for i in airline_tag:\n",
    "    airlines.append(i.text)\n",
    "\n",
    "xyz=[]\n",
    "source_tag=driver.find_elements(By.XPATH,'//p[@class=\"fs-10 font-lightgrey no-wrap city ellipsis\" ]')\n",
    "for i in source_tag:\n",
    "    xyz.append(i.text)\n",
    "for i in range(0,len(xyz),2):\n",
    "    source.append(xyz[i])\n",
    "for i in range(1,len(xyz), 2):\n",
    "    destination.append(xyz[i])\n",
    "    \n",
    "stop_tag=driver.find_elements(By.XPATH,'//div[@class=\" font-lightgrey fs-10 tipsy i-b fs-10\"]')\n",
    "for i in stop_tag:\n",
    "    stops.append(i.text)\n",
    "    \n",
    "dpt_tag=driver.find_elements(By.XPATH,'//div[@class=\"i-b pr\"]')\n",
    "for i in dpt_tag:\n",
    "    dept_time.append(i.text)\n",
    "    \n",
    "arrival_tag=driver.find_elements(By.XPATH,'//p[@class=\"bold fs-15 mb-2 pr time\"]')\n",
    "for i in arrival_tag:\n",
    "    arrival_time.append(i.text)\n",
    "\n",
    "duration_tag=driver.find_elements(By.XPATH,'//p[@class=\"fs-12 bold du mb-2\" ]')\n",
    "for i in duration_tag:\n",
    "    total_duration.append(i.text)\n",
    "    \n",
    "price_tag=driver.find_elements(By.XPATH,'//div[@class=\"i-b tipsy fare-summary-tooltip fs-18\"]')\n",
    "for i in price_tag:\n",
    "    price.append(i.text)\n",
    "    \n",
    "print(len(airlines),len(source),len(destination),len(stops),len(dept_time),len(arrival_time),len(total_duration),len(price))"
   ]
  },
  {
   "cell_type": "code",
   "execution_count": 165,
   "id": "4edff8bc",
   "metadata": {},
   "outputs": [
    {
     "data": {
      "text/plain": [
       "2204"
      ]
     },
     "execution_count": 165,
     "metadata": {},
     "output_type": "execute_result"
    }
   ],
   "source": [
    "date_tag=driver.find_elements(By.XPATH,'/html/body/section[2]/section/section[2]/section[1]/div[1]/div/div[1]/div/ul/li[11]/div/p[1]')\n",
    "for i in date_tag:\n",
    "    for j in range(2061,len(price)):\n",
    "        date_of_journey.append(i.text)\n",
    "len(date_of_journey)"
   ]
  },
  {
   "cell_type": "code",
   "execution_count": 167,
   "id": "681894a6",
   "metadata": {},
   "outputs": [],
   "source": [
    "# date change and getting the driver\n",
    "driver.get('https://flight.yatra.com/air-search-ui/dom2/trigger?ADT=1&CHD=0&INF=0&class=Economy&destination=CCU&destinationCountry=IN&flexi=0&flight_depart_date=08%2F10%2F2022&hb=0&noOfSegments=1&origin=DEL&originCountry=IN&type=O&unique=1663952580768&viewName=normal')"
   ]
  },
  {
   "cell_type": "code",
   "execution_count": 169,
   "id": "3dccb09c",
   "metadata": {},
   "outputs": [
    {
     "name": "stdout",
     "output_type": "stream",
     "text": [
      "2348 2348 2348 2348 2348 2348 2348 2348\n"
     ]
    }
   ],
   "source": [
    "airline_tag=driver.find_elements(By.XPATH,'//span[@class=\"i-b text ellipsis\"]')\n",
    "for i in airline_tag:\n",
    "    airlines.append(i.text)\n",
    "\n",
    "xyz=[]\n",
    "source_tag=driver.find_elements(By.XPATH,'//p[@class=\"fs-10 font-lightgrey no-wrap city ellipsis\" ]')\n",
    "for i in source_tag:\n",
    "    xyz.append(i.text)\n",
    "for i in range(0,len(xyz),2):\n",
    "    source.append(xyz[i])\n",
    "for i in range(1,len(xyz), 2):\n",
    "    destination.append(xyz[i])\n",
    "    \n",
    "stop_tag=driver.find_elements(By.XPATH,'//div[@class=\" font-lightgrey fs-10 tipsy i-b fs-10\"]')\n",
    "for i in stop_tag:\n",
    "    stops.append(i.text)\n",
    "    \n",
    "dpt_tag=driver.find_elements(By.XPATH,'//div[@class=\"i-b pr\"]')\n",
    "for i in dpt_tag:\n",
    "    dept_time.append(i.text)\n",
    "    \n",
    "arrival_tag=driver.find_elements(By.XPATH,'//p[@class=\"bold fs-15 mb-2 pr time\"]')\n",
    "for i in arrival_tag:\n",
    "    arrival_time.append(i.text)\n",
    "\n",
    "duration_tag=driver.find_elements(By.XPATH,'//p[@class=\"fs-12 bold du mb-2\" ]')\n",
    "for i in duration_tag:\n",
    "    total_duration.append(i.text)\n",
    "    \n",
    "price_tag=driver.find_elements(By.XPATH,'//div[@class=\"i-b tipsy fare-summary-tooltip fs-18\"]')\n",
    "for i in price_tag:\n",
    "    price.append(i.text)\n",
    "    \n",
    "print(len(airlines),len(source),len(destination),len(stops),len(dept_time),len(arrival_time),len(total_duration),len(price))"
   ]
  },
  {
   "cell_type": "code",
   "execution_count": 170,
   "id": "f83134b3",
   "metadata": {},
   "outputs": [
    {
     "data": {
      "text/plain": [
       "2348"
      ]
     },
     "execution_count": 170,
     "metadata": {},
     "output_type": "execute_result"
    }
   ],
   "source": [
    "date_tag=driver.find_elements(By.XPATH,'/html/body/section[2]/section/section[2]/section[1]/div[1]/div/div[1]/div/ul/li[11]/div/p[1]')\n",
    "for i in date_tag:\n",
    "    for j in range(2204, len(price)):\n",
    "        date_of_journey.append(i.text)\n",
    "len(date_of_journey)"
   ]
  },
  {
   "cell_type": "code",
   "execution_count": 171,
   "id": "87d9cf14",
   "metadata": {},
   "outputs": [],
   "source": [
    "# date change\n",
    "date_change=driver.find_element(By.XPATH,'/html/body/section[2]/section/section[2]/section[1]/div[1]/div/div[1]/div/ul/li[12]')\n",
    "date_change.click()"
   ]
  },
  {
   "cell_type": "code",
   "execution_count": 172,
   "id": "0ba8f819",
   "metadata": {},
   "outputs": [
    {
     "name": "stdout",
     "output_type": "stream",
     "text": [
      "2490 2490 2490 2490 2490 2490 2490 2490\n"
     ]
    }
   ],
   "source": [
    "airline_tag=driver.find_elements(By.XPATH,'//span[@class=\"i-b text ellipsis\"]')\n",
    "for i in airline_tag:\n",
    "    airlines.append(i.text)\n",
    "\n",
    "xyz=[]\n",
    "source_tag=driver.find_elements(By.XPATH,'//p[@class=\"fs-10 font-lightgrey no-wrap city ellipsis\" ]')\n",
    "for i in source_tag:\n",
    "    xyz.append(i.text)\n",
    "for i in range(0,len(xyz),2):\n",
    "    source.append(xyz[i])\n",
    "for i in range(1,len(xyz), 2):\n",
    "    destination.append(xyz[i])\n",
    "    \n",
    "stop_tag=driver.find_elements(By.XPATH,'//div[@class=\" font-lightgrey fs-10 tipsy i-b fs-10\"]')\n",
    "for i in stop_tag:\n",
    "    stops.append(i.text)\n",
    "    \n",
    "dpt_tag=driver.find_elements(By.XPATH,'//div[@class=\"i-b pr\"]')\n",
    "for i in dpt_tag:\n",
    "    dept_time.append(i.text)\n",
    "    \n",
    "arrival_tag=driver.find_elements(By.XPATH,'//p[@class=\"bold fs-15 mb-2 pr time\"]')\n",
    "for i in arrival_tag:\n",
    "    arrival_time.append(i.text)\n",
    "\n",
    "duration_tag=driver.find_elements(By.XPATH,'//p[@class=\"fs-12 bold du mb-2\" ]')\n",
    "for i in duration_tag:\n",
    "    total_duration.append(i.text)\n",
    "    \n",
    "price_tag=driver.find_elements(By.XPATH,'//div[@class=\"i-b tipsy fare-summary-tooltip fs-18\"]')\n",
    "for i in price_tag:\n",
    "    price.append(i.text)\n",
    "    \n",
    "print(len(airlines),len(source),len(destination),len(stops),len(dept_time),len(arrival_time),len(total_duration),len(price))"
   ]
  },
  {
   "cell_type": "code",
   "execution_count": 173,
   "id": "2a836e7a",
   "metadata": {},
   "outputs": [
    {
     "data": {
      "text/plain": [
       "2490"
      ]
     },
     "execution_count": 173,
     "metadata": {},
     "output_type": "execute_result"
    }
   ],
   "source": [
    "date_tag=driver.find_elements(By.XPATH,'/html/body/section[2]/section/section[2]/section[1]/div[1]/div/div[1]/div/ul/li[11]/div/p[1]')\n",
    "for i in date_tag:\n",
    "    for j in range(2348, len(price)):\n",
    "        date_of_journey.append(i.text)\n",
    "len(date_of_journey)"
   ]
  },
  {
   "cell_type": "code",
   "execution_count": 174,
   "id": "74247248",
   "metadata": {},
   "outputs": [],
   "source": [
    "# date change\n",
    "date_change=driver.find_element(By.XPATH,'/html/body/section[2]/section/section[2]/section[1]/div[1]/div/div[1]/div/ul/li[12]')\n",
    "date_change.click()"
   ]
  },
  {
   "cell_type": "code",
   "execution_count": 175,
   "id": "7f45af00",
   "metadata": {},
   "outputs": [
    {
     "name": "stdout",
     "output_type": "stream",
     "text": [
      "2638 2638 2638 2638 2638 2638 2638 2638\n"
     ]
    }
   ],
   "source": [
    "airline_tag=driver.find_elements(By.XPATH,'//span[@class=\"i-b text ellipsis\"]')\n",
    "for i in airline_tag:\n",
    "    airlines.append(i.text)\n",
    "\n",
    "xyz=[]\n",
    "source_tag=driver.find_elements(By.XPATH,'//p[@class=\"fs-10 font-lightgrey no-wrap city ellipsis\" ]')\n",
    "for i in source_tag:\n",
    "    xyz.append(i.text)\n",
    "for i in range(0,len(xyz),2):\n",
    "    source.append(xyz[i])\n",
    "for i in range(1,len(xyz), 2):\n",
    "    destination.append(xyz[i])\n",
    "    \n",
    "stop_tag=driver.find_elements(By.XPATH,'//div[@class=\" font-lightgrey fs-10 tipsy i-b fs-10\"]')\n",
    "for i in stop_tag:\n",
    "    stops.append(i.text)\n",
    "    \n",
    "dpt_tag=driver.find_elements(By.XPATH,'//div[@class=\"i-b pr\"]')\n",
    "for i in dpt_tag:\n",
    "    dept_time.append(i.text)\n",
    "    \n",
    "arrival_tag=driver.find_elements(By.XPATH,'//p[@class=\"bold fs-15 mb-2 pr time\"]')\n",
    "for i in arrival_tag:\n",
    "    arrival_time.append(i.text)\n",
    "\n",
    "duration_tag=driver.find_elements(By.XPATH,'//p[@class=\"fs-12 bold du mb-2\" ]')\n",
    "for i in duration_tag:\n",
    "    total_duration.append(i.text)\n",
    "    \n",
    "price_tag=driver.find_elements(By.XPATH,'//div[@class=\"i-b tipsy fare-summary-tooltip fs-18\"]')\n",
    "for i in price_tag:\n",
    "    price.append(i.text)\n",
    "    \n",
    "print(len(airlines),len(source),len(destination),len(stops),len(dept_time),len(arrival_time),len(total_duration),len(price))"
   ]
  },
  {
   "cell_type": "code",
   "execution_count": 176,
   "id": "ffb3fde8",
   "metadata": {},
   "outputs": [
    {
     "data": {
      "text/plain": [
       "2638"
      ]
     },
     "execution_count": 176,
     "metadata": {},
     "output_type": "execute_result"
    }
   ],
   "source": [
    "date_tag=driver.find_elements(By.XPATH,'/html/body/section[2]/section/section[2]/section[1]/div[1]/div/div[1]/div/ul/li[11]/div/p[1]')\n",
    "for i in date_tag:\n",
    "    for j in range(2490,len(price)):\n",
    "        date_of_journey.append(i.text)\n",
    "len(date_of_journey)"
   ]
  },
  {
   "cell_type": "code",
   "execution_count": 177,
   "id": "60ebe2e6",
   "metadata": {},
   "outputs": [],
   "source": [
    "# date change\n",
    "date_change=driver.find_element(By.XPATH,'/html/body/section[2]/section/section[2]/section[1]/div[1]/div/div[1]/div/ul/li[12]')\n",
    "date_change.click()"
   ]
  },
  {
   "cell_type": "code",
   "execution_count": 178,
   "id": "03a5fdc4",
   "metadata": {},
   "outputs": [
    {
     "name": "stdout",
     "output_type": "stream",
     "text": [
      "2787 2787 2787 2787 2787 2787 2787 2787\n"
     ]
    }
   ],
   "source": [
    "airline_tag=driver.find_elements(By.XPATH,'//span[@class=\"i-b text ellipsis\"]')\n",
    "for i in airline_tag:\n",
    "    airlines.append(i.text)\n",
    "\n",
    "xyz=[]\n",
    "source_tag=driver.find_elements(By.XPATH,'//p[@class=\"fs-10 font-lightgrey no-wrap city ellipsis\" ]')\n",
    "for i in source_tag:\n",
    "    xyz.append(i.text)\n",
    "for i in range(0,len(xyz),2):\n",
    "    source.append(xyz[i])\n",
    "for i in range(1,len(xyz), 2):\n",
    "    destination.append(xyz[i])\n",
    "    \n",
    "stop_tag=driver.find_elements(By.XPATH,'//div[@class=\" font-lightgrey fs-10 tipsy i-b fs-10\"]')\n",
    "for i in stop_tag:\n",
    "    stops.append(i.text)\n",
    "    \n",
    "dpt_tag=driver.find_elements(By.XPATH,'//div[@class=\"i-b pr\"]')\n",
    "for i in dpt_tag:\n",
    "    dept_time.append(i.text)\n",
    "    \n",
    "arrival_tag=driver.find_elements(By.XPATH,'//p[@class=\"bold fs-15 mb-2 pr time\"]')\n",
    "for i in arrival_tag:\n",
    "    arrival_time.append(i.text)\n",
    "\n",
    "duration_tag=driver.find_elements(By.XPATH,'//p[@class=\"fs-12 bold du mb-2\" ]')\n",
    "for i in duration_tag:\n",
    "    total_duration.append(i.text)\n",
    "    \n",
    "price_tag=driver.find_elements(By.XPATH,'//div[@class=\"i-b tipsy fare-summary-tooltip fs-18\"]')\n",
    "for i in price_tag:\n",
    "    price.append(i.text)\n",
    "    \n",
    "print(len(airlines),len(source),len(destination),len(stops),len(dept_time),len(arrival_time),len(total_duration),len(price))"
   ]
  },
  {
   "cell_type": "code",
   "execution_count": 179,
   "id": "e6972c2f",
   "metadata": {},
   "outputs": [
    {
     "data": {
      "text/plain": [
       "2787"
      ]
     },
     "execution_count": 179,
     "metadata": {},
     "output_type": "execute_result"
    }
   ],
   "source": [
    "date_tag=driver.find_elements(By.XPATH, '/html/body/section[2]/section/section[2]/section[1]/div[1]/div/div[1]/div/ul/li[11]/div/p[1]')\n",
    "for i in date_tag:\n",
    "    for j in range(2638, len(price)):\n",
    "        date_of_journey.append(i.text)\n",
    "        \n",
    "len(date_of_journey)"
   ]
  },
  {
   "cell_type": "code",
   "execution_count": 180,
   "id": "a5273531",
   "metadata": {},
   "outputs": [
    {
     "data": {
      "text/html": [
       "<div>\n",
       "<style scoped>\n",
       "    .dataframe tbody tr th:only-of-type {\n",
       "        vertical-align: middle;\n",
       "    }\n",
       "\n",
       "    .dataframe tbody tr th {\n",
       "        vertical-align: top;\n",
       "    }\n",
       "\n",
       "    .dataframe thead th {\n",
       "        text-align: right;\n",
       "    }\n",
       "</style>\n",
       "<table border=\"1\" class=\"dataframe\">\n",
       "  <thead>\n",
       "    <tr style=\"text-align: right;\">\n",
       "      <th></th>\n",
       "      <th>AirLines</th>\n",
       "      <th>Source</th>\n",
       "      <th>Destination</th>\n",
       "      <th>Total_Stops</th>\n",
       "      <th>Departure_Time</th>\n",
       "      <th>Arrival_Time</th>\n",
       "      <th>Total_Duration</th>\n",
       "      <th>Date_Of_Journey</th>\n",
       "      <th>Flight_Price</th>\n",
       "    </tr>\n",
       "  </thead>\n",
       "  <tbody>\n",
       "    <tr>\n",
       "      <th>0</th>\n",
       "      <td>Go First</td>\n",
       "      <td>New Delhi</td>\n",
       "      <td>Mumbai</td>\n",
       "      <td>Non Stop</td>\n",
       "      <td>15:45</td>\n",
       "      <td>17:55</td>\n",
       "      <td>2h 10m</td>\n",
       "      <td>Wed, 21 Sep</td>\n",
       "      <td>5,950</td>\n",
       "    </tr>\n",
       "    <tr>\n",
       "      <th>1</th>\n",
       "      <td>SpiceJet</td>\n",
       "      <td>New Delhi</td>\n",
       "      <td>Mumbai</td>\n",
       "      <td>Non Stop</td>\n",
       "      <td>19:00</td>\n",
       "      <td>21:10</td>\n",
       "      <td>2h 10m</td>\n",
       "      <td>Wed, 21 Sep</td>\n",
       "      <td>5,950</td>\n",
       "    </tr>\n",
       "    <tr>\n",
       "      <th>2</th>\n",
       "      <td>Go First</td>\n",
       "      <td>New Delhi</td>\n",
       "      <td>Mumbai</td>\n",
       "      <td>Non Stop</td>\n",
       "      <td>20:50</td>\n",
       "      <td>23:00</td>\n",
       "      <td>2h 10m</td>\n",
       "      <td>Wed, 21 Sep</td>\n",
       "      <td>5,950</td>\n",
       "    </tr>\n",
       "    <tr>\n",
       "      <th>3</th>\n",
       "      <td>Go First</td>\n",
       "      <td>New Delhi</td>\n",
       "      <td>Mumbai</td>\n",
       "      <td>Non Stop</td>\n",
       "      <td>18:20</td>\n",
       "      <td>20:35</td>\n",
       "      <td>2h 15m</td>\n",
       "      <td>Wed, 21 Sep</td>\n",
       "      <td>5,950</td>\n",
       "    </tr>\n",
       "    <tr>\n",
       "      <th>4</th>\n",
       "      <td>SpiceJet</td>\n",
       "      <td>New Delhi</td>\n",
       "      <td>Mumbai</td>\n",
       "      <td>Non Stop</td>\n",
       "      <td>19:45</td>\n",
       "      <td>22:00</td>\n",
       "      <td>2h 15m</td>\n",
       "      <td>Wed, 21 Sep</td>\n",
       "      <td>5,950</td>\n",
       "    </tr>\n",
       "    <tr>\n",
       "      <th>...</th>\n",
       "      <td>...</td>\n",
       "      <td>...</td>\n",
       "      <td>...</td>\n",
       "      <td>...</td>\n",
       "      <td>...</td>\n",
       "      <td>...</td>\n",
       "      <td>...</td>\n",
       "      <td>...</td>\n",
       "      <td>...</td>\n",
       "    </tr>\n",
       "    <tr>\n",
       "      <th>2782</th>\n",
       "      <td>SpiceJet</td>\n",
       "      <td>New Delhi</td>\n",
       "      <td>Kolkata</td>\n",
       "      <td>1 Stop</td>\n",
       "      <td>06:30</td>\n",
       "      <td>18:10</td>\n",
       "      <td>11h 40m</td>\n",
       "      <td>Tue, 11 Oct</td>\n",
       "      <td>20,969</td>\n",
       "    </tr>\n",
       "    <tr>\n",
       "      <th>2783</th>\n",
       "      <td>SpiceJet</td>\n",
       "      <td>New Delhi</td>\n",
       "      <td>Kolkata</td>\n",
       "      <td>1 Stop</td>\n",
       "      <td>13:05</td>\n",
       "      <td>18:10</td>\n",
       "      <td>5h 05m</td>\n",
       "      <td>Tue, 11 Oct</td>\n",
       "      <td>21,913</td>\n",
       "    </tr>\n",
       "    <tr>\n",
       "      <th>2784</th>\n",
       "      <td>Air India</td>\n",
       "      <td>New Delhi</td>\n",
       "      <td>Kolkata</td>\n",
       "      <td>1 Stop</td>\n",
       "      <td>05:30</td>\n",
       "      <td>10:40\\n+ 1 day</td>\n",
       "      <td>29h 10m</td>\n",
       "      <td>Tue, 11 Oct</td>\n",
       "      <td>28,602</td>\n",
       "    </tr>\n",
       "    <tr>\n",
       "      <th>2785</th>\n",
       "      <td>Air Asia</td>\n",
       "      <td>New Delhi</td>\n",
       "      <td>Kolkata</td>\n",
       "      <td>2 Stop(s)</td>\n",
       "      <td>10:40</td>\n",
       "      <td>19:50</td>\n",
       "      <td>9h 10m</td>\n",
       "      <td>Tue, 11 Oct</td>\n",
       "      <td>30,180</td>\n",
       "    </tr>\n",
       "    <tr>\n",
       "      <th>2786</th>\n",
       "      <td>Air Asia</td>\n",
       "      <td>New Delhi</td>\n",
       "      <td>Kolkata</td>\n",
       "      <td>2 Stop(s)</td>\n",
       "      <td>05:10</td>\n",
       "      <td>19:50</td>\n",
       "      <td>14h 40m</td>\n",
       "      <td>Tue, 11 Oct</td>\n",
       "      <td>30,180</td>\n",
       "    </tr>\n",
       "  </tbody>\n",
       "</table>\n",
       "<p>2787 rows × 9 columns</p>\n",
       "</div>"
      ],
      "text/plain": [
       "       AirLines     Source Destination Total_Stops Departure_Time  \\\n",
       "0      Go First  New Delhi      Mumbai    Non Stop          15:45   \n",
       "1      SpiceJet  New Delhi      Mumbai    Non Stop          19:00   \n",
       "2      Go First  New Delhi      Mumbai    Non Stop          20:50   \n",
       "3      Go First  New Delhi      Mumbai    Non Stop          18:20   \n",
       "4      SpiceJet  New Delhi      Mumbai    Non Stop          19:45   \n",
       "...         ...        ...         ...         ...            ...   \n",
       "2782   SpiceJet  New Delhi     Kolkata      1 Stop          06:30   \n",
       "2783   SpiceJet  New Delhi     Kolkata      1 Stop          13:05   \n",
       "2784  Air India  New Delhi     Kolkata      1 Stop          05:30   \n",
       "2785   Air Asia  New Delhi     Kolkata   2 Stop(s)          10:40   \n",
       "2786   Air Asia  New Delhi     Kolkata   2 Stop(s)          05:10   \n",
       "\n",
       "        Arrival_Time Total_Duration Date_Of_Journey Flight_Price  \n",
       "0              17:55         2h 10m     Wed, 21 Sep        5,950  \n",
       "1              21:10         2h 10m     Wed, 21 Sep        5,950  \n",
       "2              23:00         2h 10m     Wed, 21 Sep        5,950  \n",
       "3              20:35         2h 15m     Wed, 21 Sep        5,950  \n",
       "4              22:00         2h 15m     Wed, 21 Sep        5,950  \n",
       "...              ...            ...             ...          ...  \n",
       "2782           18:10        11h 40m     Tue, 11 Oct       20,969  \n",
       "2783           18:10         5h 05m     Tue, 11 Oct       21,913  \n",
       "2784  10:40\\n+ 1 day        29h 10m     Tue, 11 Oct       28,602  \n",
       "2785           19:50         9h 10m     Tue, 11 Oct       30,180  \n",
       "2786           19:50        14h 40m     Tue, 11 Oct       30,180  \n",
       "\n",
       "[2787 rows x 9 columns]"
      ]
     },
     "execution_count": 180,
     "metadata": {},
     "output_type": "execute_result"
    }
   ],
   "source": [
    "#  Preparing Data Frame\n",
    "flight_data= pd.DataFrame({'AirLines':airlines, 'Source':source, 'Destination': destination,'Total_Stops':stops,\n",
    "                          'Departure_Time':dept_time, 'Arrival_Time' : arrival_time, \n",
    "                          'Total_Duration':total_duration, 'Date_Of_Journey':date_of_journey, 'Flight_Price':price})\n",
    "flight_data"
   ]
  },
  {
   "cell_type": "code",
   "execution_count": 181,
   "id": "5fe99c87",
   "metadata": {},
   "outputs": [],
   "source": [
    "# Converting & storing in excel file\n",
    "flight_data.to_excel('Flight_Price_dataset.xlsx')"
   ]
  },
  {
   "cell_type": "code",
   "execution_count": 182,
   "id": "990bd4e3",
   "metadata": {},
   "outputs": [],
   "source": [
    "driver.close()"
   ]
  },
  {
   "cell_type": "code",
   "execution_count": null,
   "id": "ff9f3f9b",
   "metadata": {},
   "outputs": [],
   "source": []
  }
 ],
 "metadata": {
  "kernelspec": {
   "display_name": "Python 3 (ipykernel)",
   "language": "python",
   "name": "python3"
  },
  "language_info": {
   "codemirror_mode": {
    "name": "ipython",
    "version": 3
   },
   "file_extension": ".py",
   "mimetype": "text/x-python",
   "name": "python",
   "nbconvert_exporter": "python",
   "pygments_lexer": "ipython3",
   "version": "3.9.12"
  }
 },
 "nbformat": 4,
 "nbformat_minor": 5
}
